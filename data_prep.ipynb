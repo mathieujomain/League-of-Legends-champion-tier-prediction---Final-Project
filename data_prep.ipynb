{
 "cells": [
  {
   "cell_type": "markdown",
   "id": "6995bdcb",
   "metadata": {},
   "source": [
    "### Data exploration & cleaning"
   ]
  },
  {
   "cell_type": "code",
   "execution_count": 69,
   "id": "d3a7c07e",
   "metadata": {},
   "outputs": [],
   "source": [
    "import pandas as pd\n",
    "import numpy as np"
   ]
  },
  {
   "cell_type": "code",
   "execution_count": 70,
   "id": "58e5e2fc",
   "metadata": {},
   "outputs": [],
   "source": [
    "#Importing dataset\n",
    "data = pd.read_csv(r'C:\\Users\\matui\\Downloads\\Final_project_data\\League of Legends Champion Stats 12.11.csv', sep=';')"
   ]
  },
  {
   "cell_type": "code",
   "execution_count": 71,
   "id": "5bb417d4",
   "metadata": {},
   "outputs": [
    {
     "data": {
      "text/html": [
       "<div>\n",
       "<style scoped>\n",
       "    .dataframe tbody tr th:only-of-type {\n",
       "        vertical-align: middle;\n",
       "    }\n",
       "\n",
       "    .dataframe tbody tr th {\n",
       "        vertical-align: top;\n",
       "    }\n",
       "\n",
       "    .dataframe thead th {\n",
       "        text-align: right;\n",
       "    }\n",
       "</style>\n",
       "<table border=\"1\" class=\"dataframe\">\n",
       "  <thead>\n",
       "    <tr style=\"text-align: right;\">\n",
       "      <th></th>\n",
       "      <th>Name</th>\n",
       "      <th>Class</th>\n",
       "      <th>Role</th>\n",
       "      <th>Tier</th>\n",
       "      <th>Score</th>\n",
       "      <th>Trend</th>\n",
       "      <th>Win %</th>\n",
       "      <th>Role %</th>\n",
       "      <th>Pick %</th>\n",
       "      <th>Ban %</th>\n",
       "      <th>KDA</th>\n",
       "    </tr>\n",
       "  </thead>\n",
       "  <tbody>\n",
       "    <tr>\n",
       "      <th>0</th>\n",
       "      <td>Aatrox</td>\n",
       "      <td>Fighter</td>\n",
       "      <td>TOP</td>\n",
       "      <td>God</td>\n",
       "      <td>69.36</td>\n",
       "      <td>3.20</td>\n",
       "      <td>48.94%</td>\n",
       "      <td>92.64%</td>\n",
       "      <td>7.31%</td>\n",
       "      <td>5.43%</td>\n",
       "      <td>1.96</td>\n",
       "    </tr>\n",
       "    <tr>\n",
       "      <th>1</th>\n",
       "      <td>Ahri</td>\n",
       "      <td>Mage</td>\n",
       "      <td>MID</td>\n",
       "      <td>God</td>\n",
       "      <td>73.72</td>\n",
       "      <td>-5.74</td>\n",
       "      <td>50.04%</td>\n",
       "      <td>95.11%</td>\n",
       "      <td>9.83%</td>\n",
       "      <td>8.59%</td>\n",
       "      <td>2.63</td>\n",
       "    </tr>\n",
       "    <tr>\n",
       "      <th>2</th>\n",
       "      <td>Akali</td>\n",
       "      <td>Assassin</td>\n",
       "      <td>MID</td>\n",
       "      <td>S</td>\n",
       "      <td>58.67</td>\n",
       "      <td>2.63</td>\n",
       "      <td>48.70%</td>\n",
       "      <td>68.12%</td>\n",
       "      <td>6.26%</td>\n",
       "      <td>11.79%</td>\n",
       "      <td>2.39</td>\n",
       "    </tr>\n",
       "    <tr>\n",
       "      <th>3</th>\n",
       "      <td>Akali</td>\n",
       "      <td>Assassin</td>\n",
       "      <td>TOP</td>\n",
       "      <td>B</td>\n",
       "      <td>43.83</td>\n",
       "      <td>-0.89</td>\n",
       "      <td>47.58%</td>\n",
       "      <td>30.92%</td>\n",
       "      <td>2.67%</td>\n",
       "      <td>11.79%</td>\n",
       "      <td>2.05</td>\n",
       "    </tr>\n",
       "    <tr>\n",
       "      <th>4</th>\n",
       "      <td>Akshan</td>\n",
       "      <td>Marksman</td>\n",
       "      <td>MID</td>\n",
       "      <td>B</td>\n",
       "      <td>46.91</td>\n",
       "      <td>-0.64</td>\n",
       "      <td>49.50%</td>\n",
       "      <td>58.88%</td>\n",
       "      <td>2.93%</td>\n",
       "      <td>7.60%</td>\n",
       "      <td>2.22</td>\n",
       "    </tr>\n",
       "    <tr>\n",
       "      <th>...</th>\n",
       "      <td>...</td>\n",
       "      <td>...</td>\n",
       "      <td>...</td>\n",
       "      <td>...</td>\n",
       "      <td>...</td>\n",
       "      <td>...</td>\n",
       "      <td>...</td>\n",
       "      <td>...</td>\n",
       "      <td>...</td>\n",
       "      <td>...</td>\n",
       "      <td>...</td>\n",
       "    </tr>\n",
       "    <tr>\n",
       "      <th>236</th>\n",
       "      <td>Ziggs</td>\n",
       "      <td>Mage</td>\n",
       "      <td>ADC</td>\n",
       "      <td>D</td>\n",
       "      <td>35.08</td>\n",
       "      <td>7.31</td>\n",
       "      <td>51.29%</td>\n",
       "      <td>57.15%</td>\n",
       "      <td>1.39%</td>\n",
       "      <td>0.32%</td>\n",
       "      <td>2.54</td>\n",
       "    </tr>\n",
       "    <tr>\n",
       "      <th>237</th>\n",
       "      <td>Zilean</td>\n",
       "      <td>Support</td>\n",
       "      <td>MID</td>\n",
       "      <td>A</td>\n",
       "      <td>52.69</td>\n",
       "      <td>-1.77</td>\n",
       "      <td>52.49%</td>\n",
       "      <td>21.28%</td>\n",
       "      <td>1.05%</td>\n",
       "      <td>2.71%</td>\n",
       "      <td>3.57</td>\n",
       "    </tr>\n",
       "    <tr>\n",
       "      <th>238</th>\n",
       "      <td>Zilean</td>\n",
       "      <td>Support</td>\n",
       "      <td>SUPPORT</td>\n",
       "      <td>A</td>\n",
       "      <td>49.18</td>\n",
       "      <td>-5.34</td>\n",
       "      <td>49.80%</td>\n",
       "      <td>75.08%</td>\n",
       "      <td>3.65%</td>\n",
       "      <td>2.71%</td>\n",
       "      <td>3.09</td>\n",
       "    </tr>\n",
       "    <tr>\n",
       "      <th>239</th>\n",
       "      <td>Zoe</td>\n",
       "      <td>Mage</td>\n",
       "      <td>MID</td>\n",
       "      <td>A</td>\n",
       "      <td>48.25</td>\n",
       "      <td>-0.96</td>\n",
       "      <td>48.23%</td>\n",
       "      <td>91.87%</td>\n",
       "      <td>3.82%</td>\n",
       "      <td>1.73%</td>\n",
       "      <td>2.51</td>\n",
       "    </tr>\n",
       "    <tr>\n",
       "      <th>240</th>\n",
       "      <td>Zyra</td>\n",
       "      <td>Mage</td>\n",
       "      <td>SUPPORT</td>\n",
       "      <td>A</td>\n",
       "      <td>49.39</td>\n",
       "      <td>4.09</td>\n",
       "      <td>52.49%</td>\n",
       "      <td>90.71%</td>\n",
       "      <td>3.15%</td>\n",
       "      <td>1.91%</td>\n",
       "      <td>2.24</td>\n",
       "    </tr>\n",
       "  </tbody>\n",
       "</table>\n",
       "<p>241 rows × 11 columns</p>\n",
       "</div>"
      ],
      "text/plain": [
       "       Name     Class     Role Tier  Score  Trend   Win %  Role % Pick %  \\\n",
       "0    Aatrox   Fighter      TOP  God  69.36   3.20  48.94%  92.64%  7.31%   \n",
       "1      Ahri      Mage      MID  God  73.72  -5.74  50.04%  95.11%  9.83%   \n",
       "2     Akali  Assassin      MID    S  58.67   2.63  48.70%  68.12%  6.26%   \n",
       "3     Akali  Assassin      TOP    B  43.83  -0.89  47.58%  30.92%  2.67%   \n",
       "4    Akshan  Marksman      MID    B  46.91  -0.64  49.50%  58.88%  2.93%   \n",
       "..      ...       ...      ...  ...    ...    ...     ...     ...    ...   \n",
       "236   Ziggs      Mage      ADC    D  35.08   7.31  51.29%  57.15%  1.39%   \n",
       "237  Zilean   Support      MID    A  52.69  -1.77  52.49%  21.28%  1.05%   \n",
       "238  Zilean   Support  SUPPORT    A  49.18  -5.34  49.80%  75.08%  3.65%   \n",
       "239     Zoe      Mage      MID    A  48.25  -0.96  48.23%  91.87%  3.82%   \n",
       "240    Zyra      Mage  SUPPORT    A  49.39   4.09  52.49%  90.71%  3.15%   \n",
       "\n",
       "      Ban %   KDA  \n",
       "0     5.43%  1.96  \n",
       "1     8.59%  2.63  \n",
       "2    11.79%  2.39  \n",
       "3    11.79%  2.05  \n",
       "4     7.60%  2.22  \n",
       "..      ...   ...  \n",
       "236   0.32%  2.54  \n",
       "237   2.71%  3.57  \n",
       "238   2.71%  3.09  \n",
       "239   1.73%  2.51  \n",
       "240   1.91%  2.24  \n",
       "\n",
       "[241 rows x 11 columns]"
      ]
     },
     "execution_count": 71,
     "metadata": {},
     "output_type": "execute_result"
    }
   ],
   "source": [
    "#First look\n",
    "data"
   ]
  },
  {
   "cell_type": "code",
   "execution_count": 72,
   "id": "47d7ed6a",
   "metadata": {},
   "outputs": [
    {
     "name": "stdout",
     "output_type": "stream",
     "text": [
      "<class 'pandas.core.frame.DataFrame'>\n",
      "RangeIndex: 241 entries, 0 to 240\n",
      "Data columns (total 11 columns):\n",
      " #   Column  Non-Null Count  Dtype  \n",
      "---  ------  --------------  -----  \n",
      " 0   Name    241 non-null    object \n",
      " 1   Class   241 non-null    object \n",
      " 2   Role    241 non-null    object \n",
      " 3   Tier    241 non-null    object \n",
      " 4   Score   241 non-null    float64\n",
      " 5   Trend   241 non-null    float64\n",
      " 6   Win %   241 non-null    object \n",
      " 7   Role %  241 non-null    object \n",
      " 8   Pick %  241 non-null    object \n",
      " 9   Ban %   241 non-null    object \n",
      " 10  KDA     241 non-null    float64\n",
      "dtypes: float64(3), object(8)\n",
      "memory usage: 20.8+ KB\n"
     ]
    }
   ],
   "source": [
    "data.info()\n",
    "#11 cols, 241 rows, apparently no missing values"
   ]
  },
  {
   "cell_type": "code",
   "execution_count": 73,
   "id": "3873c1b9",
   "metadata": {},
   "outputs": [
    {
     "data": {
      "text/plain": [
       "Name      0\n",
       "Class     0\n",
       "Role      0\n",
       "Tier      0\n",
       "Score     0\n",
       "Trend     0\n",
       "Win %     0\n",
       "Role %    0\n",
       "Pick %    0\n",
       "Ban %     0\n",
       "KDA       0\n",
       "dtype: int64"
      ]
     },
     "execution_count": 73,
     "metadata": {},
     "output_type": "execute_result"
    }
   ],
   "source": [
    "#Double check missing values\n",
    "data.isna().sum()"
   ]
  },
  {
   "cell_type": "code",
   "execution_count": 74,
   "id": "a60cc233",
   "metadata": {},
   "outputs": [
    {
     "data": {
      "text/plain": [
       "Index(['Name', 'Class', 'Role', 'Tier', 'Score', 'Trend', 'Win %', 'Role %',\n",
       "       'Pick %', 'Ban %', 'KDA'],\n",
       "      dtype='object')"
      ]
     },
     "execution_count": 74,
     "metadata": {},
     "output_type": "execute_result"
    }
   ],
   "source": [
    "#Always a good thing to have columns names\n",
    "data.columns"
   ]
  },
  {
   "cell_type": "code",
   "execution_count": 75,
   "id": "13661712",
   "metadata": {},
   "outputs": [
    {
     "data": {
      "text/plain": [
       "Fighter     70\n",
       "Mage        61\n",
       "Marksman    33\n",
       "Tank        30\n",
       "Assassin    26\n",
       "Support     21\n",
       "Name: Class, dtype: int64"
      ]
     },
     "execution_count": 75,
     "metadata": {},
     "output_type": "execute_result"
    }
   ],
   "source": [
    "#I want to see if a given champion can have multiple informations in columns Class or Role\n",
    "#If it is the case we have to keep only one value\n",
    "data.Class.value_counts()"
   ]
  },
  {
   "cell_type": "code",
   "execution_count": 76,
   "id": "be8e46e3",
   "metadata": {},
   "outputs": [
    {
     "data": {
      "text/plain": [
       "TOP        62\n",
       "MID        61\n",
       "JUNGLE     48\n",
       "SUPPORT    42\n",
       "ADC        28\n",
       "Name: Role, dtype: int64"
      ]
     },
     "execution_count": 76,
     "metadata": {},
     "output_type": "execute_result"
    }
   ],
   "source": [
    "#Each row has only one value in those columns\n",
    "data.Role.value_counts()"
   ]
  },
  {
   "cell_type": "code",
   "execution_count": 77,
   "id": "6522438f",
   "metadata": {},
   "outputs": [],
   "source": [
    "#We need to encode Class and Role in order to have numeric data\n",
    "from sklearn.preprocessing import LabelEncoder\n",
    "tst = data.copy()\n",
    "le = LabelEncoder()\n",
    "data['Class'] = le.fit_transform(data.Class.values)\n",
    "data['Role'] = le.fit_transform(data.Role.values)"
   ]
  },
  {
   "cell_type": "code",
   "execution_count": 78,
   "id": "e5d184bc",
   "metadata": {},
   "outputs": [
    {
     "data": {
      "text/html": [
       "<div>\n",
       "<style scoped>\n",
       "    .dataframe tbody tr th:only-of-type {\n",
       "        vertical-align: middle;\n",
       "    }\n",
       "\n",
       "    .dataframe tbody tr th {\n",
       "        vertical-align: top;\n",
       "    }\n",
       "\n",
       "    .dataframe thead th {\n",
       "        text-align: right;\n",
       "    }\n",
       "</style>\n",
       "<table border=\"1\" class=\"dataframe\">\n",
       "  <thead>\n",
       "    <tr style=\"text-align: right;\">\n",
       "      <th></th>\n",
       "      <th>Name</th>\n",
       "      <th>Class</th>\n",
       "      <th>Role</th>\n",
       "      <th>Tier</th>\n",
       "      <th>Score</th>\n",
       "      <th>Trend</th>\n",
       "      <th>Win %</th>\n",
       "      <th>Role %</th>\n",
       "      <th>Pick %</th>\n",
       "      <th>Ban %</th>\n",
       "      <th>KDA</th>\n",
       "    </tr>\n",
       "  </thead>\n",
       "  <tbody>\n",
       "    <tr>\n",
       "      <th>0</th>\n",
       "      <td>Aatrox</td>\n",
       "      <td>1</td>\n",
       "      <td>4</td>\n",
       "      <td>God</td>\n",
       "      <td>69.36</td>\n",
       "      <td>3.20</td>\n",
       "      <td>48.94%</td>\n",
       "      <td>92.64%</td>\n",
       "      <td>7.31%</td>\n",
       "      <td>5.43%</td>\n",
       "      <td>1.96</td>\n",
       "    </tr>\n",
       "    <tr>\n",
       "      <th>1</th>\n",
       "      <td>Ahri</td>\n",
       "      <td>2</td>\n",
       "      <td>2</td>\n",
       "      <td>God</td>\n",
       "      <td>73.72</td>\n",
       "      <td>-5.74</td>\n",
       "      <td>50.04%</td>\n",
       "      <td>95.11%</td>\n",
       "      <td>9.83%</td>\n",
       "      <td>8.59%</td>\n",
       "      <td>2.63</td>\n",
       "    </tr>\n",
       "    <tr>\n",
       "      <th>2</th>\n",
       "      <td>Akali</td>\n",
       "      <td>0</td>\n",
       "      <td>2</td>\n",
       "      <td>S</td>\n",
       "      <td>58.67</td>\n",
       "      <td>2.63</td>\n",
       "      <td>48.70%</td>\n",
       "      <td>68.12%</td>\n",
       "      <td>6.26%</td>\n",
       "      <td>11.79%</td>\n",
       "      <td>2.39</td>\n",
       "    </tr>\n",
       "    <tr>\n",
       "      <th>3</th>\n",
       "      <td>Akali</td>\n",
       "      <td>0</td>\n",
       "      <td>4</td>\n",
       "      <td>B</td>\n",
       "      <td>43.83</td>\n",
       "      <td>-0.89</td>\n",
       "      <td>47.58%</td>\n",
       "      <td>30.92%</td>\n",
       "      <td>2.67%</td>\n",
       "      <td>11.79%</td>\n",
       "      <td>2.05</td>\n",
       "    </tr>\n",
       "    <tr>\n",
       "      <th>4</th>\n",
       "      <td>Akshan</td>\n",
       "      <td>3</td>\n",
       "      <td>2</td>\n",
       "      <td>B</td>\n",
       "      <td>46.91</td>\n",
       "      <td>-0.64</td>\n",
       "      <td>49.50%</td>\n",
       "      <td>58.88%</td>\n",
       "      <td>2.93%</td>\n",
       "      <td>7.60%</td>\n",
       "      <td>2.22</td>\n",
       "    </tr>\n",
       "    <tr>\n",
       "      <th>...</th>\n",
       "      <td>...</td>\n",
       "      <td>...</td>\n",
       "      <td>...</td>\n",
       "      <td>...</td>\n",
       "      <td>...</td>\n",
       "      <td>...</td>\n",
       "      <td>...</td>\n",
       "      <td>...</td>\n",
       "      <td>...</td>\n",
       "      <td>...</td>\n",
       "      <td>...</td>\n",
       "    </tr>\n",
       "    <tr>\n",
       "      <th>236</th>\n",
       "      <td>Ziggs</td>\n",
       "      <td>2</td>\n",
       "      <td>0</td>\n",
       "      <td>D</td>\n",
       "      <td>35.08</td>\n",
       "      <td>7.31</td>\n",
       "      <td>51.29%</td>\n",
       "      <td>57.15%</td>\n",
       "      <td>1.39%</td>\n",
       "      <td>0.32%</td>\n",
       "      <td>2.54</td>\n",
       "    </tr>\n",
       "    <tr>\n",
       "      <th>237</th>\n",
       "      <td>Zilean</td>\n",
       "      <td>4</td>\n",
       "      <td>2</td>\n",
       "      <td>A</td>\n",
       "      <td>52.69</td>\n",
       "      <td>-1.77</td>\n",
       "      <td>52.49%</td>\n",
       "      <td>21.28%</td>\n",
       "      <td>1.05%</td>\n",
       "      <td>2.71%</td>\n",
       "      <td>3.57</td>\n",
       "    </tr>\n",
       "    <tr>\n",
       "      <th>238</th>\n",
       "      <td>Zilean</td>\n",
       "      <td>4</td>\n",
       "      <td>3</td>\n",
       "      <td>A</td>\n",
       "      <td>49.18</td>\n",
       "      <td>-5.34</td>\n",
       "      <td>49.80%</td>\n",
       "      <td>75.08%</td>\n",
       "      <td>3.65%</td>\n",
       "      <td>2.71%</td>\n",
       "      <td>3.09</td>\n",
       "    </tr>\n",
       "    <tr>\n",
       "      <th>239</th>\n",
       "      <td>Zoe</td>\n",
       "      <td>2</td>\n",
       "      <td>2</td>\n",
       "      <td>A</td>\n",
       "      <td>48.25</td>\n",
       "      <td>-0.96</td>\n",
       "      <td>48.23%</td>\n",
       "      <td>91.87%</td>\n",
       "      <td>3.82%</td>\n",
       "      <td>1.73%</td>\n",
       "      <td>2.51</td>\n",
       "    </tr>\n",
       "    <tr>\n",
       "      <th>240</th>\n",
       "      <td>Zyra</td>\n",
       "      <td>2</td>\n",
       "      <td>3</td>\n",
       "      <td>A</td>\n",
       "      <td>49.39</td>\n",
       "      <td>4.09</td>\n",
       "      <td>52.49%</td>\n",
       "      <td>90.71%</td>\n",
       "      <td>3.15%</td>\n",
       "      <td>1.91%</td>\n",
       "      <td>2.24</td>\n",
       "    </tr>\n",
       "  </tbody>\n",
       "</table>\n",
       "<p>241 rows × 11 columns</p>\n",
       "</div>"
      ],
      "text/plain": [
       "       Name  Class  Role Tier  Score  Trend   Win %  Role % Pick %   Ban %  \\\n",
       "0    Aatrox      1     4  God  69.36   3.20  48.94%  92.64%  7.31%   5.43%   \n",
       "1      Ahri      2     2  God  73.72  -5.74  50.04%  95.11%  9.83%   8.59%   \n",
       "2     Akali      0     2    S  58.67   2.63  48.70%  68.12%  6.26%  11.79%   \n",
       "3     Akali      0     4    B  43.83  -0.89  47.58%  30.92%  2.67%  11.79%   \n",
       "4    Akshan      3     2    B  46.91  -0.64  49.50%  58.88%  2.93%   7.60%   \n",
       "..      ...    ...   ...  ...    ...    ...     ...     ...    ...     ...   \n",
       "236   Ziggs      2     0    D  35.08   7.31  51.29%  57.15%  1.39%   0.32%   \n",
       "237  Zilean      4     2    A  52.69  -1.77  52.49%  21.28%  1.05%   2.71%   \n",
       "238  Zilean      4     3    A  49.18  -5.34  49.80%  75.08%  3.65%   2.71%   \n",
       "239     Zoe      2     2    A  48.25  -0.96  48.23%  91.87%  3.82%   1.73%   \n",
       "240    Zyra      2     3    A  49.39   4.09  52.49%  90.71%  3.15%   1.91%   \n",
       "\n",
       "      KDA  \n",
       "0    1.96  \n",
       "1    2.63  \n",
       "2    2.39  \n",
       "3    2.05  \n",
       "4    2.22  \n",
       "..    ...  \n",
       "236  2.54  \n",
       "237  3.57  \n",
       "238  3.09  \n",
       "239  2.51  \n",
       "240  2.24  \n",
       "\n",
       "[241 rows x 11 columns]"
      ]
     },
     "execution_count": 78,
     "metadata": {},
     "output_type": "execute_result"
    }
   ],
   "source": [
    "#Results\n",
    "data"
   ]
  },
  {
   "cell_type": "code",
   "execution_count": 79,
   "id": "200352a1",
   "metadata": {},
   "outputs": [],
   "source": [
    "#I'm creating 2 dictionnaries with value before and after encoding just to keep track of what number correspond to what\n",
    "data_class = {'Fighter':1, 'Mage':2, 'Marksman':3,\n",
    "              'Tank':5, 'Assassin':0, 'Support':4}\n",
    "\n",
    "data_role = {'TOP':4, 'MID':2, 'JUNGLE':1,\n",
    "              'SUPPORT':3, 'ADC':0}"
   ]
  },
  {
   "cell_type": "code",
   "execution_count": 80,
   "id": "87ab9012",
   "metadata": {},
   "outputs": [],
   "source": [
    "#Converting object column containing number in string to number type\n",
    "#Delete % sign\n",
    "col = ['Win %', 'Role %', 'Pick %', 'Ban %']\n",
    "\n",
    "for i in col:\n",
    "    data[i]=data[i].str.replace(\"%\",\"\", regex=True)"
   ]
  },
  {
   "cell_type": "code",
   "execution_count": 81,
   "id": "eb625cbe",
   "metadata": {},
   "outputs": [],
   "source": [
    "#Changing dtype\n",
    "for i in col:\n",
    "    data[i] = pd.to_numeric(data[i])"
   ]
  },
  {
   "cell_type": "code",
   "execution_count": 84,
   "id": "965ad55b",
   "metadata": {},
   "outputs": [
    {
     "data": {
      "text/plain": [
       "Name       object\n",
       "Class       int32\n",
       "Role        int32\n",
       "Tier       object\n",
       "Score     float64\n",
       "Trend     float64\n",
       "Win %     float64\n",
       "Role %    float64\n",
       "Pick %    float64\n",
       "Ban %     float64\n",
       "KDA       float64\n",
       "dtype: object"
      ]
     },
     "execution_count": 84,
     "metadata": {},
     "output_type": "execute_result"
    }
   ],
   "source": [
    "#Checking results\n",
    "data.dtypes"
   ]
  },
  {
   "cell_type": "code",
   "execution_count": 85,
   "id": "e90a9222",
   "metadata": {},
   "outputs": [
    {
     "data": {
      "text/html": [
       "<div>\n",
       "<style scoped>\n",
       "    .dataframe tbody tr th:only-of-type {\n",
       "        vertical-align: middle;\n",
       "    }\n",
       "\n",
       "    .dataframe tbody tr th {\n",
       "        vertical-align: top;\n",
       "    }\n",
       "\n",
       "    .dataframe thead th {\n",
       "        text-align: right;\n",
       "    }\n",
       "</style>\n",
       "<table border=\"1\" class=\"dataframe\">\n",
       "  <thead>\n",
       "    <tr style=\"text-align: right;\">\n",
       "      <th></th>\n",
       "      <th>Class</th>\n",
       "      <th>Role</th>\n",
       "      <th>Score</th>\n",
       "      <th>Trend</th>\n",
       "      <th>Win %</th>\n",
       "      <th>Role %</th>\n",
       "      <th>Pick %</th>\n",
       "      <th>Ban %</th>\n",
       "      <th>KDA</th>\n",
       "    </tr>\n",
       "  </thead>\n",
       "  <tbody>\n",
       "    <tr>\n",
       "      <th>count</th>\n",
       "      <td>241.000000</td>\n",
       "      <td>241.000000</td>\n",
       "      <td>241.000000</td>\n",
       "      <td>241.000000</td>\n",
       "      <td>241.000000</td>\n",
       "      <td>241.00000</td>\n",
       "      <td>241.000000</td>\n",
       "      <td>241.000000</td>\n",
       "      <td>241.000000</td>\n",
       "    </tr>\n",
       "    <tr>\n",
       "      <th>mean</th>\n",
       "      <td>2.178423</td>\n",
       "      <td>2.257261</td>\n",
       "      <td>50.000249</td>\n",
       "      <td>-0.341203</td>\n",
       "      <td>50.054938</td>\n",
       "      <td>62.05444</td>\n",
       "      <td>3.942822</td>\n",
       "      <td>5.580373</td>\n",
       "      <td>2.366722</td>\n",
       "    </tr>\n",
       "    <tr>\n",
       "      <th>std</th>\n",
       "      <td>1.518398</td>\n",
       "      <td>1.344820</td>\n",
       "      <td>12.737547</td>\n",
       "      <td>9.161103</td>\n",
       "      <td>2.046839</td>\n",
       "      <td>31.48353</td>\n",
       "      <td>3.579935</td>\n",
       "      <td>6.823018</td>\n",
       "      <td>0.423816</td>\n",
       "    </tr>\n",
       "    <tr>\n",
       "      <th>min</th>\n",
       "      <td>0.000000</td>\n",
       "      <td>0.000000</td>\n",
       "      <td>22.550000</td>\n",
       "      <td>-28.040000</td>\n",
       "      <td>41.490000</td>\n",
       "      <td>10.11000</td>\n",
       "      <td>0.150000</td>\n",
       "      <td>0.130000</td>\n",
       "      <td>1.450000</td>\n",
       "    </tr>\n",
       "    <tr>\n",
       "      <th>25%</th>\n",
       "      <td>1.000000</td>\n",
       "      <td>1.000000</td>\n",
       "      <td>42.280000</td>\n",
       "      <td>-4.340000</td>\n",
       "      <td>48.790000</td>\n",
       "      <td>28.02000</td>\n",
       "      <td>1.390000</td>\n",
       "      <td>0.880000</td>\n",
       "      <td>2.090000</td>\n",
       "    </tr>\n",
       "    <tr>\n",
       "      <th>50%</th>\n",
       "      <td>2.000000</td>\n",
       "      <td>2.000000</td>\n",
       "      <td>48.080000</td>\n",
       "      <td>-0.040000</td>\n",
       "      <td>50.070000</td>\n",
       "      <td>75.95000</td>\n",
       "      <td>2.910000</td>\n",
       "      <td>3.180000</td>\n",
       "      <td>2.340000</td>\n",
       "    </tr>\n",
       "    <tr>\n",
       "      <th>75%</th>\n",
       "      <td>3.000000</td>\n",
       "      <td>4.000000</td>\n",
       "      <td>55.200000</td>\n",
       "      <td>3.630000</td>\n",
       "      <td>51.420000</td>\n",
       "      <td>90.88000</td>\n",
       "      <td>5.570000</td>\n",
       "      <td>7.600000</td>\n",
       "      <td>2.610000</td>\n",
       "    </tr>\n",
       "    <tr>\n",
       "      <th>max</th>\n",
       "      <td>5.000000</td>\n",
       "      <td>4.000000</td>\n",
       "      <td>94.930000</td>\n",
       "      <td>64.580000</td>\n",
       "      <td>57.130000</td>\n",
       "      <td>99.41000</td>\n",
       "      <td>20.310000</td>\n",
       "      <td>48.200000</td>\n",
       "      <td>4.370000</td>\n",
       "    </tr>\n",
       "  </tbody>\n",
       "</table>\n",
       "</div>"
      ],
      "text/plain": [
       "            Class        Role       Score       Trend       Win %     Role %  \\\n",
       "count  241.000000  241.000000  241.000000  241.000000  241.000000  241.00000   \n",
       "mean     2.178423    2.257261   50.000249   -0.341203   50.054938   62.05444   \n",
       "std      1.518398    1.344820   12.737547    9.161103    2.046839   31.48353   \n",
       "min      0.000000    0.000000   22.550000  -28.040000   41.490000   10.11000   \n",
       "25%      1.000000    1.000000   42.280000   -4.340000   48.790000   28.02000   \n",
       "50%      2.000000    2.000000   48.080000   -0.040000   50.070000   75.95000   \n",
       "75%      3.000000    4.000000   55.200000    3.630000   51.420000   90.88000   \n",
       "max      5.000000    4.000000   94.930000   64.580000   57.130000   99.41000   \n",
       "\n",
       "           Pick %       Ban %         KDA  \n",
       "count  241.000000  241.000000  241.000000  \n",
       "mean     3.942822    5.580373    2.366722  \n",
       "std      3.579935    6.823018    0.423816  \n",
       "min      0.150000    0.130000    1.450000  \n",
       "25%      1.390000    0.880000    2.090000  \n",
       "50%      2.910000    3.180000    2.340000  \n",
       "75%      5.570000    7.600000    2.610000  \n",
       "max     20.310000   48.200000    4.370000  "
      ]
     },
     "execution_count": 85,
     "metadata": {},
     "output_type": "execute_result"
    }
   ],
   "source": [
    "#Having a look at numeric data\n",
    "data.describe()"
   ]
  },
  {
   "cell_type": "markdown",
   "id": "6bda0fb6",
   "metadata": {},
   "source": [
    "### EDA"
   ]
  },
  {
   "cell_type": "code",
   "execution_count": 99,
   "id": "4b038aa0",
   "metadata": {},
   "outputs": [],
   "source": [
    "import seaborn as sns\n",
    "import matplotlib.pyplot as plt\n",
    "import warnings\n",
    "warnings.filterwarnings('ignore')"
   ]
  },
  {
   "cell_type": "code",
   "execution_count": 87,
   "id": "d5db23c1",
   "metadata": {},
   "outputs": [
    {
     "data": {
      "image/png": "[encoded data removed]",
      "text/plain": [
       "<Figure size 720x576 with 2 Axes>"
      ]
     },
     "metadata": {
      "needs_background": "light"
     },
     "output_type": "display_data"
    }
   ],
   "source": [
    "#Now we need to print the correlation matrix to see if some columns brings the same information\n",
    "#In that case we need to drop one of those because it is not relevant for ML\n",
    "plt.figure(figsize=(10, 8))\n",
    "heatmap = sns.heatmap(data.corr(), vmin=-1, vmax=1, annot=True)"
   ]
  },
  {
   "cell_type": "code",
   "execution_count": 90,
   "id": "fd4d3f69",
   "metadata": {
    "scrolled": false
   },
   "outputs": [
    {
     "data": {
      "image/png": "[encoded data removed]",
      "text/plain": [
       "<Figure size 432x288 with 1 Axes>"
      ]
     },
     "metadata": {
      "needs_background": "light"
     },
     "output_type": "display_data"
    },
    {
     "data": {
      "image/png": "[encoded data removed]",
      "text/plain": [
       "<Figure size 432x288 with 1 Axes>"
      ]
     },
     "metadata": {
      "needs_background": "light"
     },
     "output_type": "display_data"
    },
    {
     "data": {
      "image/png": "[encoded data removed]",
      "text/plain": [
       "<Figure size 432x288 with 1 Axes>"
      ]
     },
     "metadata": {
      "needs_background": "light"
     },
     "output_type": "display_data"
    },
    {
     "data": {
      "image/png": "[encoded data removed]",
      "text/plain": [
       "<Figure size 432x288 with 1 Axes>"
      ]
     },
     "metadata": {
      "needs_background": "light"
     },
     "output_type": "display_data"
    },
    {
     "data": {
      "image/png": "[encoded data removed]",
      "text/plain": [
       "<Figure size 432x288 with 1 Axes>"
      ]
     },
     "metadata": {
      "needs_background": "light"
     },
     "output_type": "display_data"
    },
    {
     "data": {
      "image/png": "[encoded data removed]",
      "text/plain": [
       "<Figure size 432x288 with 1 Axes>"
      ]
     },
     "metadata": {
      "needs_background": "light"
     },
     "output_type": "display_data"
    },
    {
     "data": {
      "image/png": "[encoded data removed]",
      "text/plain": [
       "<Figure size 432x288 with 1 Axes>"
      ]
     },
     "metadata": {
      "needs_background": "light"
     },
     "output_type": "display_data"
    }
   ],
   "source": [
    "#Keeping only numeric data that make sense plotting (delete encoded columns from list)\n",
    "col_plot = ['Score', 'Trend', 'Win %', 'Role %',\n",
    "       'Pick %', 'Ban %', 'KDA']\n",
    "\n",
    "for i in col:\n",
    "    sns.boxplot(data = data, y=i)\n",
    "    plt.title(i)\n",
    "    plt.show()"
   ]
  },
  {
   "cell_type": "code",
   "execution_count": 92,
   "id": "f3180afc",
   "metadata": {},
   "outputs": [
    {
     "name": "stdout",
     "output_type": "stream",
     "text": [
      "Column Score\n",
      "Number of outliers 12\n",
      "Percentage of outliers 5.0\n",
      "\n",
      "\n",
      "Column Trend\n",
      "Number of outliers 7\n",
      "Percentage of outliers 2.9\n",
      "\n",
      "\n",
      "Column Win %\n",
      "Number of outliers 2\n",
      "Percentage of outliers 0.8\n",
      "\n",
      "\n",
      "Column Role %\n",
      "Number of outliers 0\n",
      "Percentage of outliers 0.0\n",
      "\n",
      "\n",
      "Column Pick %\n",
      "Number of outliers 10\n",
      "Percentage of outliers 4.1\n",
      "\n",
      "\n",
      "Column Ban %\n",
      "Number of outliers 17\n",
      "Percentage of outliers 7.1\n",
      "\n",
      "\n",
      "Column KDA\n",
      "Number of outliers 3\n",
      "Percentage of outliers 1.2\n",
      "\n",
      "\n"
     ]
    }
   ],
   "source": [
    "#Quantity of outliers\n",
    "for x in col_plot:\n",
    "    Q3 = data[x].quantile(0.75)\n",
    "    Q1= data[x].quantile(0.25)\n",
    "    IQR = Q3 - Q1\n",
    "    filters = data[data[x]>Q3 + 1.5*IQR]\n",
    "    print('Column', x)\n",
    "    print('Number of outliers', len(filters))\n",
    "    print('Percentage of outliers', \"{:.1f}\".format((len(filters)/len(data[x]))*100))\n",
    "    print('\\n')\n",
    "\n",
    "#I think here outlier values are from champion that performs better or worst than the average"
   ]
  },
  {
   "cell_type": "code",
   "execution_count": 110,
   "id": "684d4337",
   "metadata": {},
   "outputs": [
    {
     "data": {
      "image/png": "[encoded data removed]",
      "text/plain": [
       "<Figure size 720x360 with 1 Axes>"
      ]
     },
     "metadata": {
      "needs_background": "light"
     },
     "output_type": "display_data"
    }
   ],
   "source": [
    "#Plotting distribution of Class\n",
    "f, axes = plt.subplots(figsize=(10, 5), sharex=True)\n",
    "plt.title('Distribution of Class', fontweight='bold')\n",
    "sns.distplot(data['Class'],hist=True, color='blue', bins=6)\n",
    "plt.xlabel('Class')\n",
    "plt.show()"
   ]
  },
  {
   "cell_type": "code",
   "execution_count": 109,
   "id": "347571e7",
   "metadata": {},
   "outputs": [
    {
     "data": {
      "image/png": "[encoded data removed]",
      "text/plain": [
       "<Figure size 720x360 with 1 Axes>"
      ]
     },
     "metadata": {
      "needs_background": "light"
     },
     "output_type": "display_data"
    }
   ],
   "source": [
    "#Plotting distribution of Role\n",
    "f, axes = plt.subplots(figsize=(10, 5), sharex=True)\n",
    "plt.title('Distribution of Role', fontweight='bold')\n",
    "sns.distplot(data['Role'],hist=True, color='blue', bins=5)\n",
    "plt.xlabel('Role')\n",
    "plt.show()"
   ]
  },
  {
   "cell_type": "code",
   "execution_count": 104,
   "id": "1d1f7d07",
   "metadata": {},
   "outputs": [],
   "source": [
    "#The data should be cleaned by now\n",
    "data.to_csv(r'C:\\Users\\matui\\Downloads\\data_12-11_cleaned.csv')"
   ]
  },
  {
   "cell_type": "markdown",
   "id": "b5bd8c65",
   "metadata": {},
   "source": [
    "### Model building"
   ]
  },
  {
   "cell_type": "code",
   "execution_count": 111,
   "id": "21e716f5",
   "metadata": {},
   "outputs": [],
   "source": [
    "#Importing models librairies\n",
    "from sklearn.model_selection import train_test_split\n",
    "from sklearn.linear_model import RidgeClassifier\n",
    "from sklearn.svm import SVC\n",
    "from sklearn.naive_bayes import CategoricalNB\n",
    "from sklearn.ensemble import ExtraTreesClassifier\n",
    "from sklearn.ensemble import GradientBoostingClassifier\n",
    "from sklearn.discriminant_analysis import LinearDiscriminantAnalysis\n",
    "from sklearn.svm import LinearSVC\n",
    "from sklearn.neighbors import KNeighborsClassifier\n",
    "from sklearn import metrics\n",
    "from sklearn.metrics import roc_curve, auc\n",
    "\n",
    "from sklearn.base import BaseEstimator, TransformerMixin\n",
    "from sklearn.impute import SimpleImputer\n",
    "from sklearn.preprocessing import OneHotEncoder, MinMaxScaler\n",
    "from sklearn.compose import ColumnTransformer\n",
    "from sklearn.pipeline import Pipeline\n",
    "from sklearn.linear_model import LogisticRegression\n",
    "from sklearn.metrics import roc_auc_score\n",
    "from sklearn import set_config\n",
    "set_config(display=\"diagram\")\n",
    "from sklearn.model_selection import GridSearchCV, RandomizedSearchCV\n",
    "from sklearn.decomposition import PCA\n",
    "from sklearn.metrics import classification_report"
   ]
  },
  {
   "cell_type": "code",
   "execution_count": 112,
   "id": "43ee1317",
   "metadata": {},
   "outputs": [],
   "source": [
    "#Making a copy of clean data for ML\n",
    "data1 = data"
   ]
  },
  {
   "cell_type": "code",
   "execution_count": 113,
   "id": "19c1d759",
   "metadata": {},
   "outputs": [
    {
     "data": {
      "text/html": [
       "<div>\n",
       "<style scoped>\n",
       "    .dataframe tbody tr th:only-of-type {\n",
       "        vertical-align: middle;\n",
       "    }\n",
       "\n",
       "    .dataframe tbody tr th {\n",
       "        vertical-align: top;\n",
       "    }\n",
       "\n",
       "    .dataframe thead th {\n",
       "        text-align: right;\n",
       "    }\n",
       "</style>\n",
       "<table border=\"1\" class=\"dataframe\">\n",
       "  <thead>\n",
       "    <tr style=\"text-align: right;\">\n",
       "      <th></th>\n",
       "      <th>Name</th>\n",
       "      <th>Class</th>\n",
       "      <th>Role</th>\n",
       "      <th>Tier</th>\n",
       "      <th>Score</th>\n",
       "      <th>Trend</th>\n",
       "      <th>Win %</th>\n",
       "      <th>Role %</th>\n",
       "      <th>Pick %</th>\n",
       "      <th>Ban %</th>\n",
       "      <th>KDA</th>\n",
       "    </tr>\n",
       "  </thead>\n",
       "  <tbody>\n",
       "    <tr>\n",
       "      <th>0</th>\n",
       "      <td>Aatrox</td>\n",
       "      <td>1</td>\n",
       "      <td>4</td>\n",
       "      <td>God</td>\n",
       "      <td>69.36</td>\n",
       "      <td>3.20</td>\n",
       "      <td>48.94</td>\n",
       "      <td>92.64</td>\n",
       "      <td>7.31</td>\n",
       "      <td>5.43</td>\n",
       "      <td>1.96</td>\n",
       "    </tr>\n",
       "    <tr>\n",
       "      <th>1</th>\n",
       "      <td>Ahri</td>\n",
       "      <td>2</td>\n",
       "      <td>2</td>\n",
       "      <td>God</td>\n",
       "      <td>73.72</td>\n",
       "      <td>-5.74</td>\n",
       "      <td>50.04</td>\n",
       "      <td>95.11</td>\n",
       "      <td>9.83</td>\n",
       "      <td>8.59</td>\n",
       "      <td>2.63</td>\n",
       "    </tr>\n",
       "    <tr>\n",
       "      <th>2</th>\n",
       "      <td>Akali</td>\n",
       "      <td>0</td>\n",
       "      <td>2</td>\n",
       "      <td>S</td>\n",
       "      <td>58.67</td>\n",
       "      <td>2.63</td>\n",
       "      <td>48.70</td>\n",
       "      <td>68.12</td>\n",
       "      <td>6.26</td>\n",
       "      <td>11.79</td>\n",
       "      <td>2.39</td>\n",
       "    </tr>\n",
       "    <tr>\n",
       "      <th>3</th>\n",
       "      <td>Akali</td>\n",
       "      <td>0</td>\n",
       "      <td>4</td>\n",
       "      <td>B</td>\n",
       "      <td>43.83</td>\n",
       "      <td>-0.89</td>\n",
       "      <td>47.58</td>\n",
       "      <td>30.92</td>\n",
       "      <td>2.67</td>\n",
       "      <td>11.79</td>\n",
       "      <td>2.05</td>\n",
       "    </tr>\n",
       "    <tr>\n",
       "      <th>4</th>\n",
       "      <td>Akshan</td>\n",
       "      <td>3</td>\n",
       "      <td>2</td>\n",
       "      <td>B</td>\n",
       "      <td>46.91</td>\n",
       "      <td>-0.64</td>\n",
       "      <td>49.50</td>\n",
       "      <td>58.88</td>\n",
       "      <td>2.93</td>\n",
       "      <td>7.60</td>\n",
       "      <td>2.22</td>\n",
       "    </tr>\n",
       "    <tr>\n",
       "      <th>...</th>\n",
       "      <td>...</td>\n",
       "      <td>...</td>\n",
       "      <td>...</td>\n",
       "      <td>...</td>\n",
       "      <td>...</td>\n",
       "      <td>...</td>\n",
       "      <td>...</td>\n",
       "      <td>...</td>\n",
       "      <td>...</td>\n",
       "      <td>...</td>\n",
       "      <td>...</td>\n",
       "    </tr>\n",
       "    <tr>\n",
       "      <th>236</th>\n",
       "      <td>Ziggs</td>\n",
       "      <td>2</td>\n",
       "      <td>0</td>\n",
       "      <td>D</td>\n",
       "      <td>35.08</td>\n",
       "      <td>7.31</td>\n",
       "      <td>51.29</td>\n",
       "      <td>57.15</td>\n",
       "      <td>1.39</td>\n",
       "      <td>0.32</td>\n",
       "      <td>2.54</td>\n",
       "    </tr>\n",
       "    <tr>\n",
       "      <th>237</th>\n",
       "      <td>Zilean</td>\n",
       "      <td>4</td>\n",
       "      <td>2</td>\n",
       "      <td>A</td>\n",
       "      <td>52.69</td>\n",
       "      <td>-1.77</td>\n",
       "      <td>52.49</td>\n",
       "      <td>21.28</td>\n",
       "      <td>1.05</td>\n",
       "      <td>2.71</td>\n",
       "      <td>3.57</td>\n",
       "    </tr>\n",
       "    <tr>\n",
       "      <th>238</th>\n",
       "      <td>Zilean</td>\n",
       "      <td>4</td>\n",
       "      <td>3</td>\n",
       "      <td>A</td>\n",
       "      <td>49.18</td>\n",
       "      <td>-5.34</td>\n",
       "      <td>49.80</td>\n",
       "      <td>75.08</td>\n",
       "      <td>3.65</td>\n",
       "      <td>2.71</td>\n",
       "      <td>3.09</td>\n",
       "    </tr>\n",
       "    <tr>\n",
       "      <th>239</th>\n",
       "      <td>Zoe</td>\n",
       "      <td>2</td>\n",
       "      <td>2</td>\n",
       "      <td>A</td>\n",
       "      <td>48.25</td>\n",
       "      <td>-0.96</td>\n",
       "      <td>48.23</td>\n",
       "      <td>91.87</td>\n",
       "      <td>3.82</td>\n",
       "      <td>1.73</td>\n",
       "      <td>2.51</td>\n",
       "    </tr>\n",
       "    <tr>\n",
       "      <th>240</th>\n",
       "      <td>Zyra</td>\n",
       "      <td>2</td>\n",
       "      <td>3</td>\n",
       "      <td>A</td>\n",
       "      <td>49.39</td>\n",
       "      <td>4.09</td>\n",
       "      <td>52.49</td>\n",
       "      <td>90.71</td>\n",
       "      <td>3.15</td>\n",
       "      <td>1.91</td>\n",
       "      <td>2.24</td>\n",
       "    </tr>\n",
       "  </tbody>\n",
       "</table>\n",
       "<p>241 rows × 11 columns</p>\n",
       "</div>"
      ],
      "text/plain": [
       "       Name  Class  Role Tier  Score  Trend  Win %  Role %  Pick %  Ban %  \\\n",
       "0    Aatrox      1     4  God  69.36   3.20  48.94   92.64    7.31   5.43   \n",
       "1      Ahri      2     2  God  73.72  -5.74  50.04   95.11    9.83   8.59   \n",
       "2     Akali      0     2    S  58.67   2.63  48.70   68.12    6.26  11.79   \n",
       "3     Akali      0     4    B  43.83  -0.89  47.58   30.92    2.67  11.79   \n",
       "4    Akshan      3     2    B  46.91  -0.64  49.50   58.88    2.93   7.60   \n",
       "..      ...    ...   ...  ...    ...    ...    ...     ...     ...    ...   \n",
       "236   Ziggs      2     0    D  35.08   7.31  51.29   57.15    1.39   0.32   \n",
       "237  Zilean      4     2    A  52.69  -1.77  52.49   21.28    1.05   2.71   \n",
       "238  Zilean      4     3    A  49.18  -5.34  49.80   75.08    3.65   2.71   \n",
       "239     Zoe      2     2    A  48.25  -0.96  48.23   91.87    3.82   1.73   \n",
       "240    Zyra      2     3    A  49.39   4.09  52.49   90.71    3.15   1.91   \n",
       "\n",
       "      KDA  \n",
       "0    1.96  \n",
       "1    2.63  \n",
       "2    2.39  \n",
       "3    2.05  \n",
       "4    2.22  \n",
       "..    ...  \n",
       "236  2.54  \n",
       "237  3.57  \n",
       "238  3.09  \n",
       "239  2.51  \n",
       "240  2.24  \n",
       "\n",
       "[241 rows x 11 columns]"
      ]
     },
     "execution_count": 113,
     "metadata": {},
     "output_type": "execute_result"
    }
   ],
   "source": [
    "data1"
   ]
  },
  {
   "cell_type": "code",
   "execution_count": 114,
   "id": "34a5d9c1",
   "metadata": {},
   "outputs": [],
   "source": [
    "#Drop Name column because it is 241 different values\n",
    "data1 = data1.drop('Name', axis=1)"
   ]
  },
  {
   "cell_type": "code",
   "execution_count": 115,
   "id": "8167b1c9",
   "metadata": {},
   "outputs": [],
   "source": [
    "# Partition data\n",
    "X = data1.drop('Tier', axis=1)\n",
    "y = data1['Tier']\n",
    "X_train,X_test,y_train,y_test = train_test_split(X,y, test_size=0.2, random_state=42)"
   ]
  },
  {
   "cell_type": "markdown",
   "id": "3e80c92a",
   "metadata": {},
   "source": [
    "#### Hyperparamter tuning"
   ]
  },
  {
   "cell_type": "code",
   "execution_count": 116,
   "id": "55eb50f8",
   "metadata": {},
   "outputs": [],
   "source": [
    "#Create dictionnary with candidate learning algorithms and their hyperparameters\n",
    "grid_param = [\n",
    "                {\"classifier\": [RidgeClassifier()],\n",
    "                 \"classifier__alpha\": [.0001, 0.001,0.01, 0.01,1],          \n",
    "                 \"classifier__fit_intercept\": [True,False],\n",
    "                 \"classifier__normalize\": [True,False],\n",
    "                 \"classifier__solver\": ['auto', 'svd', 'cholesky', 'lsqr', 'sparse_cg', 'sag', 'saga']\n",
    "                }, \n",
    "    \n",
    "                {\"classifier\": [SVC()],\n",
    "                 \"classifier__C\": [0.1, 1, 10, 100, 1000],\n",
    "                 \"classifier__degree\" : [0, 1, 2, 3, 4, 5, 6]\n",
    "                },\n",
    "    \n",
    "                {\"classifier\": [CategoricalNB()],\n",
    "                 \"classifier__alpha\": [1, 0],\n",
    "                },\n",
    "    \n",
    "                {\"classifier\": [ExtraTreesClassifier()],\n",
    "                 \"classifier__n_estimators\": [10, 20, 50, 100],\n",
    "                 \"classifier__max_depth\": [5, 8, 15, 25, 30, None],\n",
    "                 \"classifier__min_samples_leaf\": [1, 2, 5, 10, 15, 100]\n",
    "                },\n",
    "    \n",
    "                {\"classifier\": [GradientBoostingClassifier()],\n",
    "                 \"classifier__loss\": ['log_loss', 'deviance', 'exponential'],\n",
    "                 \"classifier__n_estimators\": [10, 20, 50, 100],\n",
    "                 \"classifier__max_depth\": [5, 8, 15, 25, 30, None],\n",
    "                 \"classifier__min_samples_leaf\": [1, 2, 5, 10, 15, 100]\n",
    "                },\n",
    "    \n",
    "                {\"classifier\": [LinearDiscriminantAnalysis()],\n",
    "                 \"classifier__solver\": ['svd', 'lsqr', 'eigen'],\n",
    "                 \"classifier__shrinkage\": [None, 'auto', 0, 0.2, 0.4, 0.6, 0.8, 1]\n",
    "                },\n",
    "    \n",
    "                {\"classifier\": [LinearSVC()],\n",
    "                 \"classifier__penalty\": ['l1', 'l2'],\n",
    "                 \"classifier__loss\": ['hing', 'squared_hinge'],\n",
    "                 \"classifier__C\": [0.1, 1, 10, 100, 1000]\n",
    "                },\n",
    "    \n",
    "                {\"classifier\": [KNeighborsClassifier()],\n",
    "                 \"classifier__n_neighbors\": [1, 2, 5, 10, 15, 20],\n",
    "                 \"classifier__metric\": ['euclidean', 'manhattan', 'minkowski'],\n",
    "                 \"classifier__weights\": ['uniform', 'distance']\n",
    "                }]"
   ]
  },
  {
   "cell_type": "code",
   "execution_count": 117,
   "id": "d17abc40",
   "metadata": {},
   "outputs": [
    {
     "name": "stdout",
     "output_type": "stream",
     "text": [
      "Pipeline(steps=[('classifier',\n",
      "                 RidgeClassifier(alpha=0.0001, normalize=False,\n",
      "                                 solver='lsqr'))])\n",
      "The mean accuracy of the model is: 0.42857142857142855\n"
     ]
    }
   ],
   "source": [
    "#Create pipeline for each classifier\n",
    "pipe = Pipeline([(\"classifier\", RidgeClassifier())])\n",
    "\n",
    "#Create a gridsearch of the pipeline\n",
    "gridsearch = GridSearchCV(pipe, grid_param[0], cv=5, verbose=0, n_jobs=-1)\n",
    "best_model = gridsearch.fit(X_train, y_train)\n",
    "\n",
    "print(best_model.best_estimator_)\n",
    "print('The mean accuracy of the model is:', best_model.score(X_test, y_test))"
   ]
  },
  {
   "cell_type": "code",
   "execution_count": 118,
   "id": "a36e56e4",
   "metadata": {},
   "outputs": [
    {
     "name": "stdout",
     "output_type": "stream",
     "text": [
      "Pipeline(steps=[('classifier', SVC(C=1000, degree=0))])\n",
      "The mean accuracy of the model is: 0.8571428571428571\n"
     ]
    }
   ],
   "source": [
    "#Create pipeline for each classifier\n",
    "pipe1 = Pipeline([(\"classifier\", SVC())])\n",
    "\n",
    "#Create a gridsearch of the pipeline\n",
    "gridsearch = GridSearchCV(pipe1, grid_param[1], cv=5, verbose=0, n_jobs=-1)\n",
    "best_model = gridsearch.fit(X_train, y_train)\n",
    "\n",
    "print(best_model.best_estimator_)\n",
    "print('The mean accuracy of the model is:', best_model.score(X_test, y_test))"
   ]
  },
  {
   "cell_type": "code",
   "execution_count": 120,
   "id": "77dd192c",
   "metadata": {},
   "outputs": [
    {
     "name": "stdout",
     "output_type": "stream",
     "text": [
      "Pipeline(steps=[('classifier',\n",
      "                 ExtraTreesClassifier(max_depth=8, n_estimators=50))])\n",
      "The mean accuracy of the model is: 0.8979591836734694\n"
     ]
    }
   ],
   "source": [
    "#Create pipeline for each classifier\n",
    "pipe3 = Pipeline([(\"classifier\", ExtraTreesClassifier())])\n",
    "\n",
    "#Create a gridsearch of the pipeline\n",
    "gridsearch = GridSearchCV(pipe3, grid_param[3], cv=5, verbose=0, n_jobs=-1)\n",
    "best_model = gridsearch.fit(X_train, y_train)\n",
    "\n",
    "print(best_model.best_estimator_)\n",
    "print('The mean accuracy of the model is:', best_model.score(X_test, y_test))"
   ]
  },
  {
   "cell_type": "code",
   "execution_count": 121,
   "id": "329ce0eb",
   "metadata": {},
   "outputs": [
    {
     "name": "stdout",
     "output_type": "stream",
     "text": [
      "Pipeline(steps=[('classifier',\n",
      "                 GradientBoostingClassifier(max_depth=5, n_estimators=10))])\n",
      "The mean accuracy of the model is: 0.9591836734693877\n"
     ]
    }
   ],
   "source": [
    "#Create pipeline for each classifier\n",
    "pipe4 = Pipeline([(\"classifier\", GradientBoostingClassifier())])\n",
    "\n",
    "#Create a gridsearch of the pipeline\n",
    "gridsearch = GridSearchCV(pipe4, grid_param[4], cv=5, verbose=0, n_jobs=-1)\n",
    "best_model = gridsearch.fit(X_train, y_train)\n",
    "\n",
    "print(best_model.best_estimator_)\n",
    "print('The mean accuracy of the model is:', best_model.score(X_test, y_test))"
   ]
  },
  {
   "cell_type": "code",
   "execution_count": 122,
   "id": "384341c3",
   "metadata": {},
   "outputs": [
    {
     "name": "stdout",
     "output_type": "stream",
     "text": [
      "Pipeline(steps=[('classifier',\n",
      "                 LinearDiscriminantAnalysis(shrinkage='auto', solver='lsqr'))])\n",
      "The mean accuracy of the model is: 0.8979591836734694\n"
     ]
    }
   ],
   "source": [
    "#Create pipeline for each classifier\n",
    "pipe5 = Pipeline([(\"classifier\", LinearDiscriminantAnalysis())])\n",
    "\n",
    "#Create a gridsearch of the pipeline\n",
    "gridsearch = GridSearchCV(pipe5, grid_param[5], cv=5, verbose=0, n_jobs=-1)\n",
    "best_model = gridsearch.fit(X_train, y_train)\n",
    "\n",
    "print(best_model.best_estimator_)\n",
    "print('The mean accuracy of the model is:', best_model.score(X_test, y_test))"
   ]
  },
  {
   "cell_type": "code",
   "execution_count": 123,
   "id": "c87d42fc",
   "metadata": {},
   "outputs": [
    {
     "name": "stdout",
     "output_type": "stream",
     "text": [
      "Pipeline(steps=[('classifier', LinearSVC(C=0.1))])\n",
      "The mean accuracy of the model is: 0.4489795918367347\n"
     ]
    }
   ],
   "source": [
    "#Create pipeline for each classifier\n",
    "pipe6 = Pipeline([(\"classifier\", LinearSVC())])\n",
    "\n",
    "#Create a gridsearch of the pipeline\n",
    "gridsearch = GridSearchCV(pipe6, grid_param[6], cv=5, verbose=0, n_jobs=-1)\n",
    "best_model = gridsearch.fit(X_train, y_train)\n",
    "\n",
    "print(best_model.best_estimator_)\n",
    "print('The mean accuracy of the model is:', best_model.score(X_test, y_test))"
   ]
  },
  {
   "cell_type": "code",
   "execution_count": 124,
   "id": "c3705c60",
   "metadata": {},
   "outputs": [
    {
     "name": "stdout",
     "output_type": "stream",
     "text": [
      "Pipeline(steps=[('classifier',\n",
      "                 KNeighborsClassifier(metric='manhattan', n_neighbors=15,\n",
      "                                      weights='distance'))])\n",
      "The mean accuracy of the model is: 0.6530612244897959\n"
     ]
    }
   ],
   "source": [
    "#Create pipeline for each classifier\n",
    "pipe7 = Pipeline([(\"classifier\", KNeighborsClassifier())])\n",
    "\n",
    "#Create a gridsearch of the pipeline\n",
    "gridsearch = GridSearchCV(pipe7, grid_param[7], cv=5, verbose=0, n_jobs=-1)\n",
    "best_model = gridsearch.fit(X_train, y_train)\n",
    "\n",
    "print(best_model.best_estimator_)\n",
    "print('The mean accuracy of the model is:', best_model.score(X_test, y_test))"
   ]
  },
  {
   "cell_type": "markdown",
   "id": "f959ff15",
   "metadata": {},
   "source": [
    "#### Building pipelines"
   ]
  },
  {
   "cell_type": "code",
   "execution_count": 125,
   "id": "6cfd3cd4",
   "metadata": {},
   "outputs": [],
   "source": [
    "#Pipeline building with hyperparameters defined before\n",
    "\n",
    "pipeline_rid = Pipeline([('rid_scaler', MinMaxScaler()),\n",
    "                         ('rid_pca', PCA(n_components=3)),\n",
    "                         ('rid_classifier', RidgeClassifier(alpha=0.0001, normalize=True))])"
   ]
  },
  {
   "cell_type": "code",
   "execution_count": 126,
   "id": "80030993",
   "metadata": {},
   "outputs": [],
   "source": [
    "pipeline_svc = Pipeline([('svc_scaler', MinMaxScaler()),\n",
    "                         ('svc_pca', PCA(n_components=3)),\n",
    "                         ('svc_classifier', SVC(C=0.1, degree=0))])"
   ]
  },
  {
   "cell_type": "code",
   "execution_count": 127,
   "id": "287a5220",
   "metadata": {},
   "outputs": [],
   "source": [
    "pipeline_cat = Pipeline([('cat_scaler', MinMaxScaler()),\n",
    "                         ('cat_pca', PCA(n_components=3)),\n",
    "                         ('cat_classifier', CategoricalNB(alpha=1))])"
   ]
  },
  {
   "cell_type": "code",
   "execution_count": 128,
   "id": "ded46f8f",
   "metadata": {},
   "outputs": [],
   "source": [
    "pipeline_ext = Pipeline([('ext_scaler', MinMaxScaler()),\n",
    "                         ('ext_pca', PCA(n_components=3)),\n",
    "                         ('ext_classifier', ExtraTreesClassifier(max_depth=30, min_samples_leaf=2, n_estimators=50))])"
   ]
  },
  {
   "cell_type": "code",
   "execution_count": 129,
   "id": "b7a9c658",
   "metadata": {},
   "outputs": [],
   "source": [
    "pipeline_gra = Pipeline([('gra_scaler', MinMaxScaler()),\n",
    "                         ('gra_pca', PCA(n_components=3)),\n",
    "                         ('gra_classifier', GradientBoostingClassifier(max_depth=15, min_samples_leaf=100, n_estimators=20))])"
   ]
  },
  {
   "cell_type": "code",
   "execution_count": 130,
   "id": "2c4db32e",
   "metadata": {},
   "outputs": [],
   "source": [
    "pipeline_dis = Pipeline([('dis_scaler', MinMaxScaler()),\n",
    "                         ('dis_pca', PCA(n_components=3)),\n",
    "                         ('dis_classifier', LinearDiscriminantAnalysis(shrinkage=0.2, solver='lsqr'))])"
   ]
  },
  {
   "cell_type": "code",
   "execution_count": 131,
   "id": "0195ecd9",
   "metadata": {},
   "outputs": [],
   "source": [
    "pipeline_linsvc = Pipeline([('linsvc_scaler', MinMaxScaler()),\n",
    "                            ('linsvc_pca', PCA(n_components=3)),\n",
    "                            ('linsvc_classifier', LinearSVC(C=100))])"
   ]
  },
  {
   "cell_type": "code",
   "execution_count": 132,
   "id": "2e12666f",
   "metadata": {},
   "outputs": [],
   "source": [
    "pipeline_knn = Pipeline([('knn_scaler', MinMaxScaler()),\n",
    "                         ('knn_pca', PCA(n_components=3)),\n",
    "                         ('knn_classifier', KNeighborsClassifier(metric='euclidean', n_neighbors=20, weights='distance'))])"
   ]
  },
  {
   "cell_type": "code",
   "execution_count": 134,
   "id": "f1da5aea",
   "metadata": {},
   "outputs": [],
   "source": [
    "#Pipelines list\n",
    "pipelines = [pipeline_rid, pipeline_svc, pipeline_cat, pipeline_ext, pipeline_gra, pipeline_dis, pipeline_linsvc, pipeline_knn]"
   ]
  },
  {
   "cell_type": "code",
   "execution_count": 135,
   "id": "54835f6c",
   "metadata": {},
   "outputs": [],
   "source": [
    "#Comparator for later use\n",
    "best_accuracy = 0.0\n",
    "best_classifier = 0\n",
    "best_pipeline = \"\""
   ]
  },
  {
   "cell_type": "code",
   "execution_count": 142,
   "id": "f0892b1c",
   "metadata": {},
   "outputs": [],
   "source": [
    "#Dictionnary of pipelines\n",
    "pipe_dict = {0:'Ridge', 1:'SVC', 2:'Extra Trees',\n",
    "             3:'Gradient Boosting', 4:'Linear Discriminant', 5:'Linear SVC', 7:'KNN'}"
   ]
  },
  {
   "cell_type": "code",
   "execution_count": 143,
   "id": "d0e6bb03",
   "metadata": {},
   "outputs": [],
   "source": [
    "#Fit pipelines\n",
    "for pipe in pipelines:\n",
    "    pipe.fit(X_train, y_train)"
   ]
  },
  {
   "cell_type": "code",
   "execution_count": 144,
   "id": "3576de54",
   "metadata": {},
   "outputs": [
    {
     "name": "stdout",
     "output_type": "stream",
     "text": [
      "Ridge Test Accuracy: 0.2857142857142857\n",
      "SVC Test Accuracy: 0.2653061224489796\n"
     ]
    },
    {
     "ename": "IndexError",
     "evalue": "index 1 is out of bounds for axis 1 with size 1",
     "output_type": "error",
     "traceback": [
      "\u001b[1;31m---------------------------------------------------------------------------\u001b[0m",
      "\u001b[1;31mIndexError\u001b[0m                                Traceback (most recent call last)",
      "\u001b[1;32m~\\AppData\\Local\\Temp/ipykernel_1724/3819961000.py\u001b[0m in \u001b[0;36m<module>\u001b[1;34m\u001b[0m\n\u001b[0;32m      1\u001b[0m \u001b[1;31m#Printing models accuracy\u001b[0m\u001b[1;33m\u001b[0m\u001b[1;33m\u001b[0m\u001b[0m\n\u001b[0;32m      2\u001b[0m \u001b[1;32mfor\u001b[0m \u001b[0mi\u001b[0m\u001b[1;33m,\u001b[0m\u001b[0mmodel\u001b[0m \u001b[1;32min\u001b[0m \u001b[0menumerate\u001b[0m\u001b[1;33m(\u001b[0m\u001b[0mpipelines\u001b[0m\u001b[1;33m)\u001b[0m\u001b[1;33m:\u001b[0m\u001b[1;33m\u001b[0m\u001b[1;33m\u001b[0m\u001b[0m\n\u001b[1;32m----> 3\u001b[1;33m     \u001b[0mprint\u001b[0m\u001b[1;33m(\u001b[0m\u001b[1;34m\"{} Test Accuracy: {}\"\u001b[0m\u001b[1;33m.\u001b[0m\u001b[0mformat\u001b[0m\u001b[1;33m(\u001b[0m\u001b[0mpipe_dict\u001b[0m\u001b[1;33m[\u001b[0m\u001b[0mi\u001b[0m\u001b[1;33m]\u001b[0m\u001b[1;33m,\u001b[0m \u001b[0mmodel\u001b[0m\u001b[1;33m.\u001b[0m\u001b[0mscore\u001b[0m\u001b[1;33m(\u001b[0m\u001b[0mX_test\u001b[0m\u001b[1;33m,\u001b[0m \u001b[0my_test\u001b[0m\u001b[1;33m)\u001b[0m\u001b[1;33m)\u001b[0m\u001b[1;33m)\u001b[0m\u001b[1;33m\u001b[0m\u001b[1;33m\u001b[0m\u001b[0m\n\u001b[0m",
      "\u001b[1;32m~\\anaconda3\\lib\\site-packages\\sklearn\\pipeline.py\u001b[0m in \u001b[0;36mscore\u001b[1;34m(self, X, y, sample_weight)\u001b[0m\n\u001b[0;32m    697\u001b[0m         \u001b[1;32mif\u001b[0m \u001b[0msample_weight\u001b[0m \u001b[1;32mis\u001b[0m \u001b[1;32mnot\u001b[0m \u001b[1;32mNone\u001b[0m\u001b[1;33m:\u001b[0m\u001b[1;33m\u001b[0m\u001b[1;33m\u001b[0m\u001b[0m\n\u001b[0;32m    698\u001b[0m             \u001b[0mscore_params\u001b[0m\u001b[1;33m[\u001b[0m\u001b[1;34m\"sample_weight\"\u001b[0m\u001b[1;33m]\u001b[0m \u001b[1;33m=\u001b[0m \u001b[0msample_weight\u001b[0m\u001b[1;33m\u001b[0m\u001b[1;33m\u001b[0m\u001b[0m\n\u001b[1;32m--> 699\u001b[1;33m         \u001b[1;32mreturn\u001b[0m \u001b[0mself\u001b[0m\u001b[1;33m.\u001b[0m\u001b[0msteps\u001b[0m\u001b[1;33m[\u001b[0m\u001b[1;33m-\u001b[0m\u001b[1;36m1\u001b[0m\u001b[1;33m]\u001b[0m\u001b[1;33m[\u001b[0m\u001b[1;36m1\u001b[0m\u001b[1;33m]\u001b[0m\u001b[1;33m.\u001b[0m\u001b[0mscore\u001b[0m\u001b[1;33m(\u001b[0m\u001b[0mXt\u001b[0m\u001b[1;33m,\u001b[0m \u001b[0my\u001b[0m\u001b[1;33m,\u001b[0m \u001b[1;33m**\u001b[0m\u001b[0mscore_params\u001b[0m\u001b[1;33m)\u001b[0m\u001b[1;33m\u001b[0m\u001b[1;33m\u001b[0m\u001b[0m\n\u001b[0m\u001b[0;32m    700\u001b[0m \u001b[1;33m\u001b[0m\u001b[0m\n\u001b[0;32m    701\u001b[0m     \u001b[1;33m@\u001b[0m\u001b[0mproperty\u001b[0m\u001b[1;33m\u001b[0m\u001b[1;33m\u001b[0m\u001b[0m\n",
      "\u001b[1;32m~\\anaconda3\\lib\\site-packages\\sklearn\\base.py\u001b[0m in \u001b[0;36mscore\u001b[1;34m(self, X, y, sample_weight)\u001b[0m\n\u001b[0;32m    664\u001b[0m         \u001b[1;32mfrom\u001b[0m \u001b[1;33m.\u001b[0m\u001b[0mmetrics\u001b[0m \u001b[1;32mimport\u001b[0m \u001b[0maccuracy_score\u001b[0m\u001b[1;33m\u001b[0m\u001b[1;33m\u001b[0m\u001b[0m\n\u001b[0;32m    665\u001b[0m \u001b[1;33m\u001b[0m\u001b[0m\n\u001b[1;32m--> 666\u001b[1;33m         \u001b[1;32mreturn\u001b[0m \u001b[0maccuracy_score\u001b[0m\u001b[1;33m(\u001b[0m\u001b[0my\u001b[0m\u001b[1;33m,\u001b[0m \u001b[0mself\u001b[0m\u001b[1;33m.\u001b[0m\u001b[0mpredict\u001b[0m\u001b[1;33m(\u001b[0m\u001b[0mX\u001b[0m\u001b[1;33m)\u001b[0m\u001b[1;33m,\u001b[0m \u001b[0msample_weight\u001b[0m\u001b[1;33m=\u001b[0m\u001b[0msample_weight\u001b[0m\u001b[1;33m)\u001b[0m\u001b[1;33m\u001b[0m\u001b[1;33m\u001b[0m\u001b[0m\n\u001b[0m\u001b[0;32m    667\u001b[0m \u001b[1;33m\u001b[0m\u001b[0m\n\u001b[0;32m    668\u001b[0m     \u001b[1;32mdef\u001b[0m \u001b[0m_more_tags\u001b[0m\u001b[1;33m(\u001b[0m\u001b[0mself\u001b[0m\u001b[1;33m)\u001b[0m\u001b[1;33m:\u001b[0m\u001b[1;33m\u001b[0m\u001b[1;33m\u001b[0m\u001b[0m\n",
      "\u001b[1;32m~\\anaconda3\\lib\\site-packages\\sklearn\\naive_bayes.py\u001b[0m in \u001b[0;36mpredict\u001b[1;34m(self, X)\u001b[0m\n\u001b[0;32m     79\u001b[0m         \u001b[0mcheck_is_fitted\u001b[0m\u001b[1;33m(\u001b[0m\u001b[0mself\u001b[0m\u001b[1;33m)\u001b[0m\u001b[1;33m\u001b[0m\u001b[1;33m\u001b[0m\u001b[0m\n\u001b[0;32m     80\u001b[0m         \u001b[0mX\u001b[0m \u001b[1;33m=\u001b[0m \u001b[0mself\u001b[0m\u001b[1;33m.\u001b[0m\u001b[0m_check_X\u001b[0m\u001b[1;33m(\u001b[0m\u001b[0mX\u001b[0m\u001b[1;33m)\u001b[0m\u001b[1;33m\u001b[0m\u001b[1;33m\u001b[0m\u001b[0m\n\u001b[1;32m---> 81\u001b[1;33m         \u001b[0mjll\u001b[0m \u001b[1;33m=\u001b[0m \u001b[0mself\u001b[0m\u001b[1;33m.\u001b[0m\u001b[0m_joint_log_likelihood\u001b[0m\u001b[1;33m(\u001b[0m\u001b[0mX\u001b[0m\u001b[1;33m)\u001b[0m\u001b[1;33m\u001b[0m\u001b[1;33m\u001b[0m\u001b[0m\n\u001b[0m\u001b[0;32m     82\u001b[0m         \u001b[1;32mreturn\u001b[0m \u001b[0mself\u001b[0m\u001b[1;33m.\u001b[0m\u001b[0mclasses_\u001b[0m\u001b[1;33m[\u001b[0m\u001b[0mnp\u001b[0m\u001b[1;33m.\u001b[0m\u001b[0margmax\u001b[0m\u001b[1;33m(\u001b[0m\u001b[0mjll\u001b[0m\u001b[1;33m,\u001b[0m \u001b[0maxis\u001b[0m\u001b[1;33m=\u001b[0m\u001b[1;36m1\u001b[0m\u001b[1;33m)\u001b[0m\u001b[1;33m]\u001b[0m\u001b[1;33m\u001b[0m\u001b[1;33m\u001b[0m\u001b[0m\n\u001b[0;32m     83\u001b[0m \u001b[1;33m\u001b[0m\u001b[0m\n",
      "\u001b[1;32m~\\anaconda3\\lib\\site-packages\\sklearn\\naive_bayes.py\u001b[0m in \u001b[0;36m_joint_log_likelihood\u001b[1;34m(self, X)\u001b[0m\n\u001b[0;32m   1423\u001b[0m         \u001b[1;32mfor\u001b[0m \u001b[0mi\u001b[0m \u001b[1;32min\u001b[0m \u001b[0mrange\u001b[0m\u001b[1;33m(\u001b[0m\u001b[0mself\u001b[0m\u001b[1;33m.\u001b[0m\u001b[0mn_features_in_\u001b[0m\u001b[1;33m)\u001b[0m\u001b[1;33m:\u001b[0m\u001b[1;33m\u001b[0m\u001b[1;33m\u001b[0m\u001b[0m\n\u001b[0;32m   1424\u001b[0m             \u001b[0mindices\u001b[0m \u001b[1;33m=\u001b[0m \u001b[0mX\u001b[0m\u001b[1;33m[\u001b[0m\u001b[1;33m:\u001b[0m\u001b[1;33m,\u001b[0m \u001b[0mi\u001b[0m\u001b[1;33m]\u001b[0m\u001b[1;33m\u001b[0m\u001b[1;33m\u001b[0m\u001b[0m\n\u001b[1;32m-> 1425\u001b[1;33m             \u001b[0mjll\u001b[0m \u001b[1;33m+=\u001b[0m \u001b[0mself\u001b[0m\u001b[1;33m.\u001b[0m\u001b[0mfeature_log_prob_\u001b[0m\u001b[1;33m[\u001b[0m\u001b[0mi\u001b[0m\u001b[1;33m]\u001b[0m\u001b[1;33m[\u001b[0m\u001b[1;33m:\u001b[0m\u001b[1;33m,\u001b[0m \u001b[0mindices\u001b[0m\u001b[1;33m]\u001b[0m\u001b[1;33m.\u001b[0m\u001b[0mT\u001b[0m\u001b[1;33m\u001b[0m\u001b[1;33m\u001b[0m\u001b[0m\n\u001b[0m\u001b[0;32m   1426\u001b[0m         \u001b[0mtotal_ll\u001b[0m \u001b[1;33m=\u001b[0m \u001b[0mjll\u001b[0m \u001b[1;33m+\u001b[0m \u001b[0mself\u001b[0m\u001b[1;33m.\u001b[0m\u001b[0mclass_log_prior_\u001b[0m\u001b[1;33m\u001b[0m\u001b[1;33m\u001b[0m\u001b[0m\n\u001b[0;32m   1427\u001b[0m         \u001b[1;32mreturn\u001b[0m \u001b[0mtotal_ll\u001b[0m\u001b[1;33m\u001b[0m\u001b[1;33m\u001b[0m\u001b[0m\n",
      "\u001b[1;31mIndexError\u001b[0m: index 1 is out of bounds for axis 1 with size 1"
     ]
    }
   ],
   "source": [
    "#Printing models accuracy\n",
    "for i,model in enumerate(pipelines):\n",
    "    print(\"{} Test Accuracy: {}\".format(pipe_dict[i], model.score(X_test, y_test)))"
   ]
  },
  {
   "cell_type": "code",
   "execution_count": null,
   "id": "980ec7fa",
   "metadata": {},
   "outputs": [],
   "source": [
    "#Finding out best model\n",
    "for i,model in enumerate(pipelines):\n",
    "    if model.score(X_test, y_test)>best_accuracy:\n",
    "        best_accuracy = model.score(X_test, y_test)\n",
    "        best_pipeline = model\n",
    "        best_classifier = i\n",
    "print('Classifier with best accuracy:{}'.format(pipe_dict[best_classifier]))"
   ]
  },
  {
   "cell_type": "markdown",
   "id": "2a357b1b",
   "metadata": {},
   "source": [
    "#### Testing best model"
   ]
  },
  {
   "cell_type": "code",
   "execution_count": null,
   "id": "a19a1ecf",
   "metadata": {},
   "outputs": [],
   "source": [
    "def generate_results(prediction, y_test, model, x_test):\n",
    "    print('The accuracy of the Tree is', '{:.3f}'.format(metrics.accuracy_score(prediction,y_test)))\n",
    "\n",
    "    cm = metrics.plot_confusion_matrix(model, x_test, y_test,\n",
    "                                 cmap=plt.cm.Blues,\n",
    "                                 normalize=None)\n",
    "    cm.ax_.set_title('Tree Confusion matrix, without normalization');"
   ]
  },
  {
   "cell_type": "code",
   "execution_count": null,
   "id": "4e64184e",
   "metadata": {},
   "outputs": [],
   "source": [
    "#Testing best model\n",
    "model_test = SVC(C=0.1, degree=0)\n",
    "result_test = model.fit(X_train,y_train)\n",
    "prediction_test = result_test.predict(X_test)\n",
    "\n",
    "print(classification_report(y_test,prediction_test))\n",
    "\n",
    "generate_results(prediction_test,y_test,model,X_test)"
   ]
  },
  {
   "cell_type": "code",
   "execution_count": null,
   "id": "fb1b119f",
   "metadata": {},
   "outputs": [],
   "source": [
    "print(metrics.roc_auc_score(y_test, prediction_test))"
   ]
  },
  {
   "cell_type": "code",
   "execution_count": null,
   "id": "0f8c9fc3",
   "metadata": {},
   "outputs": [],
   "source": [
    "# Plotting the ROC curve\n",
    "metrics.plot_roc_curve(result_test, X_test, y_test)\n",
    "\n",
    "plt.title('Receiver Operating Characteristic')\n",
    "\n",
    "plt.legend(loc = 'lower right')\n",
    "plt.plot([0, 1], [0, 1],'r--')\n",
    "plt.xlim([0, 1])\n",
    "plt.ylim([0, 1])\n",
    "plt.ylabel('True Positive Rate')\n",
    "plt.xlabel('False Positive Rate')\n",
    "\n",
    "plt.show()"
   ]
  }
 ],
 "metadata": {
  "kernelspec": {
   "display_name": "Python 3 (ipykernel)",
   "language": "python",
   "name": "python3"
  },
  "language_info": {
   "codemirror_mode": {
    "name": "ipython",
    "version": 3
   },
   "file_extension": ".py",
   "mimetype": "text/x-python",
   "name": "python",
   "nbconvert_exporter": "python",
   "pygments_lexer": "ipython3",
   "version": "3.9.7"
  }
 },
 "nbformat": 4,
 "nbformat_minor": 5
}
