{
 "cells": [
  {
   "cell_type": "markdown",
   "id": "ff4ff70f",
   "metadata": {},
   "source": [
    "### Data exploration & cleaning"
   ]
  },
  {
   "cell_type": "code",
   "execution_count": 69,
   "id": "1a5c84cc",
   "metadata": {},
   "outputs": [],
   "source": [
    "import pandas as pd\n",
    "import numpy as np"
   ]
  },
  {
   "cell_type": "code",
   "execution_count": 70,
   "id": "e901b4ce",
   "metadata": {},
   "outputs": [],
   "source": [
    "#Importing dataset\n",
    "data = pd.read_csv(r'C:\\Users\\matui\\Downloads\\Final_project_data\\League of Legends Champion Stats 12.11.csv', sep=';')"
   ]
  },
  {
   "cell_type": "code",
   "execution_count": 71,
   "id": "fa7c9348",
   "metadata": {},
   "outputs": [
    {
     "data": {
      "text/html": [
       "<div>\n",
       "<style scoped>\n",
       "    .dataframe tbody tr th:only-of-type {\n",
       "        vertical-align: middle;\n",
       "    }\n",
       "\n",
       "    .dataframe tbody tr th {\n",
       "        vertical-align: top;\n",
       "    }\n",
       "\n",
       "    .dataframe thead th {\n",
       "        text-align: right;\n",
       "    }\n",
       "</style>\n",
       "<table border=\"1\" class=\"dataframe\">\n",
       "  <thead>\n",
       "    <tr style=\"text-align: right;\">\n",
       "      <th></th>\n",
       "      <th>Name</th>\n",
       "      <th>Class</th>\n",
       "      <th>Role</th>\n",
       "      <th>Tier</th>\n",
       "      <th>Score</th>\n",
       "      <th>Trend</th>\n",
       "      <th>Win %</th>\n",
       "      <th>Role %</th>\n",
       "      <th>Pick %</th>\n",
       "      <th>Ban %</th>\n",
       "      <th>KDA</th>\n",
       "    </tr>\n",
       "  </thead>\n",
       "  <tbody>\n",
       "    <tr>\n",
       "      <th>0</th>\n",
       "      <td>Aatrox</td>\n",
       "      <td>Fighter</td>\n",
       "      <td>TOP</td>\n",
       "      <td>God</td>\n",
       "      <td>69.36</td>\n",
       "      <td>3.20</td>\n",
       "      <td>48.94%</td>\n",
       "      <td>92.64%</td>\n",
       "      <td>7.31%</td>\n",
       "      <td>5.43%</td>\n",
       "      <td>1.96</td>\n",
       "    </tr>\n",
       "    <tr>\n",
       "      <th>1</th>\n",
       "      <td>Ahri</td>\n",
       "      <td>Mage</td>\n",
       "      <td>MID</td>\n",
       "      <td>God</td>\n",
       "      <td>73.72</td>\n",
       "      <td>-5.74</td>\n",
       "      <td>50.04%</td>\n",
       "      <td>95.11%</td>\n",
       "      <td>9.83%</td>\n",
       "      <td>8.59%</td>\n",
       "      <td>2.63</td>\n",
       "    </tr>\n",
       "    <tr>\n",
       "      <th>2</th>\n",
       "      <td>Akali</td>\n",
       "      <td>Assassin</td>\n",
       "      <td>MID</td>\n",
       "      <td>S</td>\n",
       "      <td>58.67</td>\n",
       "      <td>2.63</td>\n",
       "      <td>48.70%</td>\n",
       "      <td>68.12%</td>\n",
       "      <td>6.26%</td>\n",
       "      <td>11.79%</td>\n",
       "      <td>2.39</td>\n",
       "    </tr>\n",
       "    <tr>\n",
       "      <th>3</th>\n",
       "      <td>Akali</td>\n",
       "      <td>Assassin</td>\n",
       "      <td>TOP</td>\n",
       "      <td>B</td>\n",
       "      <td>43.83</td>\n",
       "      <td>-0.89</td>\n",
       "      <td>47.58%</td>\n",
       "      <td>30.92%</td>\n",
       "      <td>2.67%</td>\n",
       "      <td>11.79%</td>\n",
       "      <td>2.05</td>\n",
       "    </tr>\n",
       "    <tr>\n",
       "      <th>4</th>\n",
       "      <td>Akshan</td>\n",
       "      <td>Marksman</td>\n",
       "      <td>MID</td>\n",
       "      <td>B</td>\n",
       "      <td>46.91</td>\n",
       "      <td>-0.64</td>\n",
       "      <td>49.50%</td>\n",
       "      <td>58.88%</td>\n",
       "      <td>2.93%</td>\n",
       "      <td>7.60%</td>\n",
       "      <td>2.22</td>\n",
       "    </tr>\n",
       "    <tr>\n",
       "      <th>...</th>\n",
       "      <td>...</td>\n",
       "      <td>...</td>\n",
       "      <td>...</td>\n",
       "      <td>...</td>\n",
       "      <td>...</td>\n",
       "      <td>...</td>\n",
       "      <td>...</td>\n",
       "      <td>...</td>\n",
       "      <td>...</td>\n",
       "      <td>...</td>\n",
       "      <td>...</td>\n",
       "    </tr>\n",
       "    <tr>\n",
       "      <th>236</th>\n",
       "      <td>Ziggs</td>\n",
       "      <td>Mage</td>\n",
       "      <td>ADC</td>\n",
       "      <td>D</td>\n",
       "      <td>35.08</td>\n",
       "      <td>7.31</td>\n",
       "      <td>51.29%</td>\n",
       "      <td>57.15%</td>\n",
       "      <td>1.39%</td>\n",
       "      <td>0.32%</td>\n",
       "      <td>2.54</td>\n",
       "    </tr>\n",
       "    <tr>\n",
       "      <th>237</th>\n",
       "      <td>Zilean</td>\n",
       "      <td>Support</td>\n",
       "      <td>MID</td>\n",
       "      <td>A</td>\n",
       "      <td>52.69</td>\n",
       "      <td>-1.77</td>\n",
       "      <td>52.49%</td>\n",
       "      <td>21.28%</td>\n",
       "      <td>1.05%</td>\n",
       "      <td>2.71%</td>\n",
       "      <td>3.57</td>\n",
       "    </tr>\n",
       "    <tr>\n",
       "      <th>238</th>\n",
       "      <td>Zilean</td>\n",
       "      <td>Support</td>\n",
       "      <td>SUPPORT</td>\n",
       "      <td>A</td>\n",
       "      <td>49.18</td>\n",
       "      <td>-5.34</td>\n",
       "      <td>49.80%</td>\n",
       "      <td>75.08%</td>\n",
       "      <td>3.65%</td>\n",
       "      <td>2.71%</td>\n",
       "      <td>3.09</td>\n",
       "    </tr>\n",
       "    <tr>\n",
       "      <th>239</th>\n",
       "      <td>Zoe</td>\n",
       "      <td>Mage</td>\n",
       "      <td>MID</td>\n",
       "      <td>A</td>\n",
       "      <td>48.25</td>\n",
       "      <td>-0.96</td>\n",
       "      <td>48.23%</td>\n",
       "      <td>91.87%</td>\n",
       "      <td>3.82%</td>\n",
       "      <td>1.73%</td>\n",
       "      <td>2.51</td>\n",
       "    </tr>\n",
       "    <tr>\n",
       "      <th>240</th>\n",
       "      <td>Zyra</td>\n",
       "      <td>Mage</td>\n",
       "      <td>SUPPORT</td>\n",
       "      <td>A</td>\n",
       "      <td>49.39</td>\n",
       "      <td>4.09</td>\n",
       "      <td>52.49%</td>\n",
       "      <td>90.71%</td>\n",
       "      <td>3.15%</td>\n",
       "      <td>1.91%</td>\n",
       "      <td>2.24</td>\n",
       "    </tr>\n",
       "  </tbody>\n",
       "</table>\n",
       "<p>241 rows × 11 columns</p>\n",
       "</div>"
      ],
      "text/plain": [
       "       Name     Class     Role Tier  Score  Trend   Win %  Role % Pick %  \\\n",
       "0    Aatrox   Fighter      TOP  God  69.36   3.20  48.94%  92.64%  7.31%   \n",
       "1      Ahri      Mage      MID  God  73.72  -5.74  50.04%  95.11%  9.83%   \n",
       "2     Akali  Assassin      MID    S  58.67   2.63  48.70%  68.12%  6.26%   \n",
       "3     Akali  Assassin      TOP    B  43.83  -0.89  47.58%  30.92%  2.67%   \n",
       "4    Akshan  Marksman      MID    B  46.91  -0.64  49.50%  58.88%  2.93%   \n",
       "..      ...       ...      ...  ...    ...    ...     ...     ...    ...   \n",
       "236   Ziggs      Mage      ADC    D  35.08   7.31  51.29%  57.15%  1.39%   \n",
       "237  Zilean   Support      MID    A  52.69  -1.77  52.49%  21.28%  1.05%   \n",
       "238  Zilean   Support  SUPPORT    A  49.18  -5.34  49.80%  75.08%  3.65%   \n",
       "239     Zoe      Mage      MID    A  48.25  -0.96  48.23%  91.87%  3.82%   \n",
       "240    Zyra      Mage  SUPPORT    A  49.39   4.09  52.49%  90.71%  3.15%   \n",
       "\n",
       "      Ban %   KDA  \n",
       "0     5.43%  1.96  \n",
       "1     8.59%  2.63  \n",
       "2    11.79%  2.39  \n",
       "3    11.79%  2.05  \n",
       "4     7.60%  2.22  \n",
       "..      ...   ...  \n",
       "236   0.32%  2.54  \n",
       "237   2.71%  3.57  \n",
       "238   2.71%  3.09  \n",
       "239   1.73%  2.51  \n",
       "240   1.91%  2.24  \n",
       "\n",
       "[241 rows x 11 columns]"
      ]
     },
     "execution_count": 71,
     "metadata": {},
     "output_type": "execute_result"
    }
   ],
   "source": [
    "#First look\n",
    "data"
   ]
  },
  {
   "cell_type": "code",
   "execution_count": 72,
   "id": "589d66f9",
   "metadata": {},
   "outputs": [
    {
     "name": "stdout",
     "output_type": "stream",
     "text": [
      "<class 'pandas.core.frame.DataFrame'>\n",
      "RangeIndex: 241 entries, 0 to 240\n",
      "Data columns (total 11 columns):\n",
      " #   Column  Non-Null Count  Dtype  \n",
      "---  ------  --------------  -----  \n",
      " 0   Name    241 non-null    object \n",
      " 1   Class   241 non-null    object \n",
      " 2   Role    241 non-null    object \n",
      " 3   Tier    241 non-null    object \n",
      " 4   Score   241 non-null    float64\n",
      " 5   Trend   241 non-null    float64\n",
      " 6   Win %   241 non-null    object \n",
      " 7   Role %  241 non-null    object \n",
      " 8   Pick %  241 non-null    object \n",
      " 9   Ban %   241 non-null    object \n",
      " 10  KDA     241 non-null    float64\n",
      "dtypes: float64(3), object(8)\n",
      "memory usage: 20.8+ KB\n"
     ]
    }
   ],
   "source": [
    "data.info()\n",
    "#11 cols, 241 rows, apparently no missing values"
   ]
  },
  {
   "cell_type": "code",
   "execution_count": 73,
   "id": "9b7d63bb",
   "metadata": {},
   "outputs": [
    {
     "data": {
      "text/plain": [
       "Name      0\n",
       "Class     0\n",
       "Role      0\n",
       "Tier      0\n",
       "Score     0\n",
       "Trend     0\n",
       "Win %     0\n",
       "Role %    0\n",
       "Pick %    0\n",
       "Ban %     0\n",
       "KDA       0\n",
       "dtype: int64"
      ]
     },
     "execution_count": 73,
     "metadata": {},
     "output_type": "execute_result"
    }
   ],
   "source": [
    "#Double check missing values\n",
    "data.isna().sum()"
   ]
  },
  {
   "cell_type": "code",
   "execution_count": 74,
   "id": "7f820e42",
   "metadata": {},
   "outputs": [
    {
     "data": {
      "text/plain": [
       "Index(['Name', 'Class', 'Role', 'Tier', 'Score', 'Trend', 'Win %', 'Role %',\n",
       "       'Pick %', 'Ban %', 'KDA'],\n",
       "      dtype='object')"
      ]
     },
     "execution_count": 74,
     "metadata": {},
     "output_type": "execute_result"
    }
   ],
   "source": [
    "#Always a good thing to have columns names\n",
    "data.columns"
   ]
  },
  {
   "cell_type": "code",
   "execution_count": 75,
   "id": "af8181d6",
   "metadata": {},
   "outputs": [
    {
     "data": {
      "text/plain": [
       "Fighter     70\n",
       "Mage        61\n",
       "Marksman    33\n",
       "Tank        30\n",
       "Assassin    26\n",
       "Support     21\n",
       "Name: Class, dtype: int64"
      ]
     },
     "execution_count": 75,
     "metadata": {},
     "output_type": "execute_result"
    }
   ],
   "source": [
    "#I want to see if a given champion can have multiple informations in columns Class or Role\n",
    "#If it is the case we have to keep only one value\n",
    "data.Class.value_counts()"
   ]
  },
  {
   "cell_type": "code",
   "execution_count": 76,
   "id": "7575ad42",
   "metadata": {},
   "outputs": [
    {
     "data": {
      "text/plain": [
       "TOP        62\n",
       "MID        61\n",
       "JUNGLE     48\n",
       "SUPPORT    42\n",
       "ADC        28\n",
       "Name: Role, dtype: int64"
      ]
     },
     "execution_count": 76,
     "metadata": {},
     "output_type": "execute_result"
    }
   ],
   "source": [
    "#Each row has only one value in those columns\n",
    "data.Role.value_counts()"
   ]
  },
  {
   "cell_type": "code",
   "execution_count": 77,
   "id": "cd0a918f",
   "metadata": {},
   "outputs": [],
   "source": [
    "#We need to encode Class and Role in order to have numeric data\n",
    "from sklearn.preprocessing import LabelEncoder\n",
    "tst = data.copy()\n",
    "le = LabelEncoder()\n",
    "data['Class'] = le.fit_transform(data.Class.values)\n",
    "data['Role'] = le.fit_transform(data.Role.values)"
   ]
  },
  {
   "cell_type": "code",
   "execution_count": 78,
   "id": "704e70d2",
   "metadata": {},
   "outputs": [
    {
     "data": {
      "text/html": [
       "<div>\n",
       "<style scoped>\n",
       "    .dataframe tbody tr th:only-of-type {\n",
       "        vertical-align: middle;\n",
       "    }\n",
       "\n",
       "    .dataframe tbody tr th {\n",
       "        vertical-align: top;\n",
       "    }\n",
       "\n",
       "    .dataframe thead th {\n",
       "        text-align: right;\n",
       "    }\n",
       "</style>\n",
       "<table border=\"1\" class=\"dataframe\">\n",
       "  <thead>\n",
       "    <tr style=\"text-align: right;\">\n",
       "      <th></th>\n",
       "      <th>Name</th>\n",
       "      <th>Class</th>\n",
       "      <th>Role</th>\n",
       "      <th>Tier</th>\n",
       "      <th>Score</th>\n",
       "      <th>Trend</th>\n",
       "      <th>Win %</th>\n",
       "      <th>Role %</th>\n",
       "      <th>Pick %</th>\n",
       "      <th>Ban %</th>\n",
       "      <th>KDA</th>\n",
       "    </tr>\n",
       "  </thead>\n",
       "  <tbody>\n",
       "    <tr>\n",
       "      <th>0</th>\n",
       "      <td>Aatrox</td>\n",
       "      <td>1</td>\n",
       "      <td>4</td>\n",
       "      <td>God</td>\n",
       "      <td>69.36</td>\n",
       "      <td>3.20</td>\n",
       "      <td>48.94%</td>\n",
       "      <td>92.64%</td>\n",
       "      <td>7.31%</td>\n",
       "      <td>5.43%</td>\n",
       "      <td>1.96</td>\n",
       "    </tr>\n",
       "    <tr>\n",
       "      <th>1</th>\n",
       "      <td>Ahri</td>\n",
       "      <td>2</td>\n",
       "      <td>2</td>\n",
       "      <td>God</td>\n",
       "      <td>73.72</td>\n",
       "      <td>-5.74</td>\n",
       "      <td>50.04%</td>\n",
       "      <td>95.11%</td>\n",
       "      <td>9.83%</td>\n",
       "      <td>8.59%</td>\n",
       "      <td>2.63</td>\n",
       "    </tr>\n",
       "    <tr>\n",
       "      <th>2</th>\n",
       "      <td>Akali</td>\n",
       "      <td>0</td>\n",
       "      <td>2</td>\n",
       "      <td>S</td>\n",
       "      <td>58.67</td>\n",
       "      <td>2.63</td>\n",
       "      <td>48.70%</td>\n",
       "      <td>68.12%</td>\n",
       "      <td>6.26%</td>\n",
       "      <td>11.79%</td>\n",
       "      <td>2.39</td>\n",
       "    </tr>\n",
       "    <tr>\n",
       "      <th>3</th>\n",
       "      <td>Akali</td>\n",
       "      <td>0</td>\n",
       "      <td>4</td>\n",
       "      <td>B</td>\n",
       "      <td>43.83</td>\n",
       "      <td>-0.89</td>\n",
       "      <td>47.58%</td>\n",
       "      <td>30.92%</td>\n",
       "      <td>2.67%</td>\n",
       "      <td>11.79%</td>\n",
       "      <td>2.05</td>\n",
       "    </tr>\n",
       "    <tr>\n",
       "      <th>4</th>\n",
       "      <td>Akshan</td>\n",
       "      <td>3</td>\n",
       "      <td>2</td>\n",
       "      <td>B</td>\n",
       "      <td>46.91</td>\n",
       "      <td>-0.64</td>\n",
       "      <td>49.50%</td>\n",
       "      <td>58.88%</td>\n",
       "      <td>2.93%</td>\n",
       "      <td>7.60%</td>\n",
       "      <td>2.22</td>\n",
       "    </tr>\n",
       "    <tr>\n",
       "      <th>...</th>\n",
       "      <td>...</td>\n",
       "      <td>...</td>\n",
       "      <td>...</td>\n",
       "      <td>...</td>\n",
       "      <td>...</td>\n",
       "      <td>...</td>\n",
       "      <td>...</td>\n",
       "      <td>...</td>\n",
       "      <td>...</td>\n",
       "      <td>...</td>\n",
       "      <td>...</td>\n",
       "    </tr>\n",
       "    <tr>\n",
       "      <th>236</th>\n",
       "      <td>Ziggs</td>\n",
       "      <td>2</td>\n",
       "      <td>0</td>\n",
       "      <td>D</td>\n",
       "      <td>35.08</td>\n",
       "      <td>7.31</td>\n",
       "      <td>51.29%</td>\n",
       "      <td>57.15%</td>\n",
       "      <td>1.39%</td>\n",
       "      <td>0.32%</td>\n",
       "      <td>2.54</td>\n",
       "    </tr>\n",
       "    <tr>\n",
       "      <th>237</th>\n",
       "      <td>Zilean</td>\n",
       "      <td>4</td>\n",
       "      <td>2</td>\n",
       "      <td>A</td>\n",
       "      <td>52.69</td>\n",
       "      <td>-1.77</td>\n",
       "      <td>52.49%</td>\n",
       "      <td>21.28%</td>\n",
       "      <td>1.05%</td>\n",
       "      <td>2.71%</td>\n",
       "      <td>3.57</td>\n",
       "    </tr>\n",
       "    <tr>\n",
       "      <th>238</th>\n",
       "      <td>Zilean</td>\n",
       "      <td>4</td>\n",
       "      <td>3</td>\n",
       "      <td>A</td>\n",
       "      <td>49.18</td>\n",
       "      <td>-5.34</td>\n",
       "      <td>49.80%</td>\n",
       "      <td>75.08%</td>\n",
       "      <td>3.65%</td>\n",
       "      <td>2.71%</td>\n",
       "      <td>3.09</td>\n",
       "    </tr>\n",
       "    <tr>\n",
       "      <th>239</th>\n",
       "      <td>Zoe</td>\n",
       "      <td>2</td>\n",
       "      <td>2</td>\n",
       "      <td>A</td>\n",
       "      <td>48.25</td>\n",
       "      <td>-0.96</td>\n",
       "      <td>48.23%</td>\n",
       "      <td>91.87%</td>\n",
       "      <td>3.82%</td>\n",
       "      <td>1.73%</td>\n",
       "      <td>2.51</td>\n",
       "    </tr>\n",
       "    <tr>\n",
       "      <th>240</th>\n",
       "      <td>Zyra</td>\n",
       "      <td>2</td>\n",
       "      <td>3</td>\n",
       "      <td>A</td>\n",
       "      <td>49.39</td>\n",
       "      <td>4.09</td>\n",
       "      <td>52.49%</td>\n",
       "      <td>90.71%</td>\n",
       "      <td>3.15%</td>\n",
       "      <td>1.91%</td>\n",
       "      <td>2.24</td>\n",
       "    </tr>\n",
       "  </tbody>\n",
       "</table>\n",
       "<p>241 rows × 11 columns</p>\n",
       "</div>"
      ],
      "text/plain": [
       "       Name  Class  Role Tier  Score  Trend   Win %  Role % Pick %   Ban %  \\\n",
       "0    Aatrox      1     4  God  69.36   3.20  48.94%  92.64%  7.31%   5.43%   \n",
       "1      Ahri      2     2  God  73.72  -5.74  50.04%  95.11%  9.83%   8.59%   \n",
       "2     Akali      0     2    S  58.67   2.63  48.70%  68.12%  6.26%  11.79%   \n",
       "3     Akali      0     4    B  43.83  -0.89  47.58%  30.92%  2.67%  11.79%   \n",
       "4    Akshan      3     2    B  46.91  -0.64  49.50%  58.88%  2.93%   7.60%   \n",
       "..      ...    ...   ...  ...    ...    ...     ...     ...    ...     ...   \n",
       "236   Ziggs      2     0    D  35.08   7.31  51.29%  57.15%  1.39%   0.32%   \n",
       "237  Zilean      4     2    A  52.69  -1.77  52.49%  21.28%  1.05%   2.71%   \n",
       "238  Zilean      4     3    A  49.18  -5.34  49.80%  75.08%  3.65%   2.71%   \n",
       "239     Zoe      2     2    A  48.25  -0.96  48.23%  91.87%  3.82%   1.73%   \n",
       "240    Zyra      2     3    A  49.39   4.09  52.49%  90.71%  3.15%   1.91%   \n",
       "\n",
       "      KDA  \n",
       "0    1.96  \n",
       "1    2.63  \n",
       "2    2.39  \n",
       "3    2.05  \n",
       "4    2.22  \n",
       "..    ...  \n",
       "236  2.54  \n",
       "237  3.57  \n",
       "238  3.09  \n",
       "239  2.51  \n",
       "240  2.24  \n",
       "\n",
       "[241 rows x 11 columns]"
      ]
     },
     "execution_count": 78,
     "metadata": {},
     "output_type": "execute_result"
    }
   ],
   "source": [
    "#Results\n",
    "data"
   ]
  },
  {
   "cell_type": "code",
   "execution_count": 79,
   "id": "bf2ec52d",
   "metadata": {},
   "outputs": [],
   "source": [
    "#I'm creating 2 dictionnaries with value before and after encoding just to keep track of what number correspond to what\n",
    "data_class = {'Fighter':1, 'Mage':2, 'Marksman':3,\n",
    "              'Tank':5, 'Assassin':0, 'Support':4}\n",
    "\n",
    "data_role = {'TOP':4, 'MID':2, 'JUNGLE':1,\n",
    "              'SUPPORT':3, 'ADC':0}"
   ]
  },
  {
   "cell_type": "code",
   "execution_count": 80,
   "id": "2264b1d3",
   "metadata": {},
   "outputs": [],
   "source": [
    "#Converting object column containing number in string to number type\n",
    "#Delete % sign\n",
    "col = ['Win %', 'Role %', 'Pick %', 'Ban %']\n",
    "\n",
    "for i in col:\n",
    "    data[i]=data[i].str.replace(\"%\",\"\", regex=True)"
   ]
  },
  {
   "cell_type": "code",
   "execution_count": 81,
   "id": "4e08d03b",
   "metadata": {},
   "outputs": [],
   "source": [
    "#Changing dtype\n",
    "for i in col:\n",
    "    data[i] = pd.to_numeric(data[i])"
   ]
  },
  {
   "cell_type": "code",
   "execution_count": 84,
   "id": "896bfe76",
   "metadata": {},
   "outputs": [
    {
     "data": {
      "text/plain": [
       "Name       object\n",
       "Class       int32\n",
       "Role        int32\n",
       "Tier       object\n",
       "Score     float64\n",
       "Trend     float64\n",
       "Win %     float64\n",
       "Role %    float64\n",
       "Pick %    float64\n",
       "Ban %     float64\n",
       "KDA       float64\n",
       "dtype: object"
      ]
     },
     "execution_count": 84,
     "metadata": {},
     "output_type": "execute_result"
    }
   ],
   "source": [
    "#Checking results\n",
    "data.dtypes"
   ]
  },
  {
   "cell_type": "code",
   "execution_count": 85,
   "id": "a149a1e8",
   "metadata": {},
   "outputs": [
    {
     "data": {
      "text/html": [
       "<div>\n",
       "<style scoped>\n",
       "    .dataframe tbody tr th:only-of-type {\n",
       "        vertical-align: middle;\n",
       "    }\n",
       "\n",
       "    .dataframe tbody tr th {\n",
       "        vertical-align: top;\n",
       "    }\n",
       "\n",
       "    .dataframe thead th {\n",
       "        text-align: right;\n",
       "    }\n",
       "</style>\n",
       "<table border=\"1\" class=\"dataframe\">\n",
       "  <thead>\n",
       "    <tr style=\"text-align: right;\">\n",
       "      <th></th>\n",
       "      <th>Class</th>\n",
       "      <th>Role</th>\n",
       "      <th>Score</th>\n",
       "      <th>Trend</th>\n",
       "      <th>Win %</th>\n",
       "      <th>Role %</th>\n",
       "      <th>Pick %</th>\n",
       "      <th>Ban %</th>\n",
       "      <th>KDA</th>\n",
       "    </tr>\n",
       "  </thead>\n",
       "  <tbody>\n",
       "    <tr>\n",
       "      <th>count</th>\n",
       "      <td>241.000000</td>\n",
       "      <td>241.000000</td>\n",
       "      <td>241.000000</td>\n",
       "      <td>241.000000</td>\n",
       "      <td>241.000000</td>\n",
       "      <td>241.00000</td>\n",
       "      <td>241.000000</td>\n",
       "      <td>241.000000</td>\n",
       "      <td>241.000000</td>\n",
       "    </tr>\n",
       "    <tr>\n",
       "      <th>mean</th>\n",
       "      <td>2.178423</td>\n",
       "      <td>2.257261</td>\n",
       "      <td>50.000249</td>\n",
       "      <td>-0.341203</td>\n",
       "      <td>50.054938</td>\n",
       "      <td>62.05444</td>\n",
       "      <td>3.942822</td>\n",
       "      <td>5.580373</td>\n",
       "      <td>2.366722</td>\n",
       "    </tr>\n",
       "    <tr>\n",
       "      <th>std</th>\n",
       "      <td>1.518398</td>\n",
       "      <td>1.344820</td>\n",
       "      <td>12.737547</td>\n",
       "      <td>9.161103</td>\n",
       "      <td>2.046839</td>\n",
       "      <td>31.48353</td>\n",
       "      <td>3.579935</td>\n",
       "      <td>6.823018</td>\n",
       "      <td>0.423816</td>\n",
       "    </tr>\n",
       "    <tr>\n",
       "      <th>min</th>\n",
       "      <td>0.000000</td>\n",
       "      <td>0.000000</td>\n",
       "      <td>22.550000</td>\n",
       "      <td>-28.040000</td>\n",
       "      <td>41.490000</td>\n",
       "      <td>10.11000</td>\n",
       "      <td>0.150000</td>\n",
       "      <td>0.130000</td>\n",
       "      <td>1.450000</td>\n",
       "    </tr>\n",
       "    <tr>\n",
       "      <th>25%</th>\n",
       "      <td>1.000000</td>\n",
       "      <td>1.000000</td>\n",
       "      <td>42.280000</td>\n",
       "      <td>-4.340000</td>\n",
       "      <td>48.790000</td>\n",
       "      <td>28.02000</td>\n",
       "      <td>1.390000</td>\n",
       "      <td>0.880000</td>\n",
       "      <td>2.090000</td>\n",
       "    </tr>\n",
       "    <tr>\n",
       "      <th>50%</th>\n",
       "      <td>2.000000</td>\n",
       "      <td>2.000000</td>\n",
       "      <td>48.080000</td>\n",
       "      <td>-0.040000</td>\n",
       "      <td>50.070000</td>\n",
       "      <td>75.95000</td>\n",
       "      <td>2.910000</td>\n",
       "      <td>3.180000</td>\n",
       "      <td>2.340000</td>\n",
       "    </tr>\n",
       "    <tr>\n",
       "      <th>75%</th>\n",
       "      <td>3.000000</td>\n",
       "      <td>4.000000</td>\n",
       "      <td>55.200000</td>\n",
       "      <td>3.630000</td>\n",
       "      <td>51.420000</td>\n",
       "      <td>90.88000</td>\n",
       "      <td>5.570000</td>\n",
       "      <td>7.600000</td>\n",
       "      <td>2.610000</td>\n",
       "    </tr>\n",
       "    <tr>\n",
       "      <th>max</th>\n",
       "      <td>5.000000</td>\n",
       "      <td>4.000000</td>\n",
       "      <td>94.930000</td>\n",
       "      <td>64.580000</td>\n",
       "      <td>57.130000</td>\n",
       "      <td>99.41000</td>\n",
       "      <td>20.310000</td>\n",
       "      <td>48.200000</td>\n",
       "      <td>4.370000</td>\n",
       "    </tr>\n",
       "  </tbody>\n",
       "</table>\n",
       "</div>"
      ],
      "text/plain": [
       "            Class        Role       Score       Trend       Win %     Role %  \\\n",
       "count  241.000000  241.000000  241.000000  241.000000  241.000000  241.00000   \n",
       "mean     2.178423    2.257261   50.000249   -0.341203   50.054938   62.05444   \n",
       "std      1.518398    1.344820   12.737547    9.161103    2.046839   31.48353   \n",
       "min      0.000000    0.000000   22.550000  -28.040000   41.490000   10.11000   \n",
       "25%      1.000000    1.000000   42.280000   -4.340000   48.790000   28.02000   \n",
       "50%      2.000000    2.000000   48.080000   -0.040000   50.070000   75.95000   \n",
       "75%      3.000000    4.000000   55.200000    3.630000   51.420000   90.88000   \n",
       "max      5.000000    4.000000   94.930000   64.580000   57.130000   99.41000   \n",
       "\n",
       "           Pick %       Ban %         KDA  \n",
       "count  241.000000  241.000000  241.000000  \n",
       "mean     3.942822    5.580373    2.366722  \n",
       "std      3.579935    6.823018    0.423816  \n",
       "min      0.150000    0.130000    1.450000  \n",
       "25%      1.390000    0.880000    2.090000  \n",
       "50%      2.910000    3.180000    2.340000  \n",
       "75%      5.570000    7.600000    2.610000  \n",
       "max     20.310000   48.200000    4.370000  "
      ]
     },
     "execution_count": 85,
     "metadata": {},
     "output_type": "execute_result"
    }
   ],
   "source": [
    "#Having a look at numeric data\n",
    "data.describe()"
   ]
  },
  {
   "cell_type": "markdown",
   "id": "0863ae7e",
   "metadata": {},
   "source": [
    "### EDA"
   ]
  },
  {
   "cell_type": "code",
   "execution_count": 86,
   "id": "f4673e76",
   "metadata": {},
   "outputs": [],
   "source": [
    "import seaborn as sns\n",
    "import matplotlib.pyplot as plt"
   ]
  },
  {
   "cell_type": "code",
   "execution_count": 87,
   "id": "f2d5a77f",
   "metadata": {},
   "outputs": [
    {
     "data": {
      "image/png": "[encoded data removed]",
      "text/plain": [
       "<Figure size 720x576 with 2 Axes>"
      ]
     },
     "metadata": {
      "needs_background": "light"
     },
     "output_type": "display_data"
    }
   ],
   "source": [
    "#Now we need to print the correlation matrix to see if some columns brings the same information\n",
    "#In that case we need to drop one of those because it is not relevant for ML\n",
    "plt.figure(figsize=(10, 8))\n",
    "heatmap = sns.heatmap(data.corr(), vmin=-1, vmax=1, annot=True)"
   ]
  },
  {
   "cell_type": "code",
   "execution_count": 90,
   "id": "083e3818",
   "metadata": {
    "scrolled": false
   },
   "outputs": [
    {
     "data": {
      "image/png": "[encoded data removed]",
      "text/plain": [
       "<Figure size 432x288 with 1 Axes>"
      ]
     },
     "metadata": {
      "needs_background": "light"
     },
     "output_type": "display_data"
    },
    {
     "data": {
      "image/png": "[encoded data removed]",
      "text/plain": [
       "<Figure size 432x288 with 1 Axes>"
      ]
     },
     "metadata": {
      "needs_background": "light"
     },
     "output_type": "display_data"
    },
    {
     "data": {
      "image/png": "[encoded data removed]",
      "text/plain": [
       "<Figure size 432x288 with 1 Axes>"
      ]
     },
     "metadata": {
      "needs_background": "light"
     },
     "output_type": "display_data"
    },
    {
     "data": {
      "image/png": "[encoded data removed]",
      "text/plain": [
       "<Figure size 432x288 with 1 Axes>"
      ]
     },
     "metadata": {
      "needs_background": "light"
     },
     "output_type": "display_data"
    },
    {
     "data": {
      "image/png": "[encoded data removed]",
      "text/plain": [
       "<Figure size 432x288 with 1 Axes>"
      ]
     },
     "metadata": {
      "needs_background": "light"
     },
     "output_type": "display_data"
    },
    {
     "data": {
      "image/png": "[encoded data removed]",
      "text/plain": [
       "<Figure size 432x288 with 1 Axes>"
      ]
     },
     "metadata": {
      "needs_background": "light"
     },
     "output_type": "display_data"
    },
    {
     "data": {
      "image/png": "[encoded data removed]",
      "text/plain": [
       "<Figure size 432x288 with 1 Axes>"
      ]
     },
     "metadata": {
      "needs_background": "light"
     },
     "output_type": "display_data"
    }
   ],
   "source": [
    "#Keeping only numeric data that make sense plotting (delete encoded columns from list)\n",
    "col_plot = ['Score', 'Trend', 'Win %', 'Role %',\n",
    "       'Pick %', 'Ban %', 'KDA']\n",
    "\n",
    "for i in col:\n",
    "    sns.boxplot(data = data, y=i)\n",
    "    plt.title(i)\n",
    "    plt.show()"
   ]
  },
  {
   "cell_type": "code",
   "execution_count": 92,
   "id": "462c36f3",
   "metadata": {},
   "outputs": [
    {
     "name": "stdout",
     "output_type": "stream",
     "text": [
      "Column Score\n",
      "Number of outliers 12\n",
      "Percentage of outliers 5.0\n",
      "\n",
      "\n",
      "Column Trend\n",
      "Number of outliers 7\n",
      "Percentage of outliers 2.9\n",
      "\n",
      "\n",
      "Column Win %\n",
      "Number of outliers 2\n",
      "Percentage of outliers 0.8\n",
      "\n",
      "\n",
      "Column Role %\n",
      "Number of outliers 0\n",
      "Percentage of outliers 0.0\n",
      "\n",
      "\n",
      "Column Pick %\n",
      "Number of outliers 10\n",
      "Percentage of outliers 4.1\n",
      "\n",
      "\n",
      "Column Ban %\n",
      "Number of outliers 17\n",
      "Percentage of outliers 7.1\n",
      "\n",
      "\n",
      "Column KDA\n",
      "Number of outliers 3\n",
      "Percentage of outliers 1.2\n",
      "\n",
      "\n"
     ]
    }
   ],
   "source": [
    "#Quantity of outliers\n",
    "for x in col_plot:\n",
    "    Q3 = data[x].quantile(0.75)\n",
    "    Q1= data[x].quantile(0.25)\n",
    "    IQR = Q3 - Q1\n",
    "    filters = data[data[x]>Q3 + 1.5*IQR]\n",
    "    print('Column', x)\n",
    "    print('Number of outliers', len(filters))\n",
    "    print('Percentage of outliers', \"{:.1f}\".format((len(filters)/len(data[x]))*100))\n",
    "    print('\\n')\n",
    "\n",
    "#I think here outlier values are from champion that performs better or worst than the average"
   ]
  },
  {
   "cell_type": "code",
   "execution_count": null,
   "id": "8b24c1ff",
   "metadata": {},
   "outputs": [],
   "source": []
  }
 ],
 "metadata": {
  "kernelspec": {
   "display_name": "Python 3 (ipykernel)",
   "language": "python",
   "name": "python3"
  },
  "language_info": {
   "codemirror_mode": {
    "name": "ipython",
    "version": 3
   },
   "file_extension": ".py",
   "mimetype": "text/x-python",
   "name": "python",
   "nbconvert_exporter": "python",
   "pygments_lexer": "ipython3",
   "version": "3.9.7"
  }
 },
 "nbformat": 4,
 "nbformat_minor": 5
}
